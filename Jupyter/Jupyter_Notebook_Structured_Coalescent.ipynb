{
 "cells": [
  {
   "cell_type": "markdown",
   "id": "41ec7265",
   "metadata": {},
   "source": [
    "# Structured Coalescent"
   ]
  },
  {
   "cell_type": "markdown",
   "id": "6ad67eb9",
   "metadata": {},
   "source": [
    "# 0) Import"
   ]
  },
  {
   "cell_type": "code",
   "execution_count": 1,
   "id": "f640e89b",
   "metadata": {},
   "outputs": [],
   "source": [
    "from Structured_Coalescent_Otto import *"
   ]
  },
  {
   "cell_type": "markdown",
   "id": "32b2dc2e",
   "metadata": {},
   "source": [
    "___"
   ]
  },
  {
   "cell_type": "markdown",
   "id": "8702eafc",
   "metadata": {},
   "source": [
    "# 1) Stationary distribution"
   ]
  },
  {
   "cell_type": "markdown",
   "id": "243f9c33",
   "metadata": {},
   "source": [
    "Make the stationary distribution, according to\n",
    "\n",
    "$$\\pi P=P $$\n",
    "\n",
    "where $P$ is the transition matrix of the unequal recombination process"
   ]
  },
  {
   "cell_type": "code",
   "execution_count": 2,
   "id": "04e06107",
   "metadata": {
    "scrolled": false
   },
   "outputs": [
    {
     "name": "stderr",
     "output_type": "stream",
     "text": [
      "100%|██████████████████████████████████████████████████████████████████████████████████| 70/70 [00:07<00:00,  9.63it/s]\n"
     ]
    }
   ],
   "source": [
    "E = 20\n",
    "Stat_distr = make_stat_distr(E)"
   ]
  },
  {
   "cell_type": "markdown",
   "id": "d86258c8",
   "metadata": {},
   "source": [
    "Plot"
   ]
  },
  {
   "cell_type": "code",
   "execution_count": 4,
   "id": "90a02947",
   "metadata": {
    "scrolled": false
   },
   "outputs": [
    {
     "data": {
      "application/javascript": [
       "/* Put everything inside the global mpl namespace */\n",
       "/* global mpl */\n",
       "window.mpl = {};\n",
       "\n",
       "mpl.get_websocket_type = function () {\n",
       "    if (typeof WebSocket !== 'undefined') {\n",
       "        return WebSocket;\n",
       "    } else if (typeof MozWebSocket !== 'undefined') {\n",
       "        return MozWebSocket;\n",
       "    } else {\n",
       "        alert(\n",
       "            'Your browser does not have WebSocket support. ' +\n",
       "                'Please try Chrome, Safari or Firefox ≥ 6. ' +\n",
       "                'Firefox 4 and 5 are also supported but you ' +\n",
       "                'have to enable WebSockets in about:config.'\n",
       "        );\n",
       "    }\n",
       "};\n",
       "\n",
       "mpl.figure = function (figure_id, websocket, ondownload, parent_element) {\n",
       "    this.id = figure_id;\n",
       "\n",
       "    this.ws = websocket;\n",
       "\n",
       "    this.supports_binary = this.ws.binaryType !== undefined;\n",
       "\n",
       "    if (!this.supports_binary) {\n",
       "        var warnings = document.getElementById('mpl-warnings');\n",
       "        if (warnings) {\n",
       "            warnings.style.display = 'block';\n",
       "            warnings.textContent =\n",
       "                'This browser does not support binary websocket messages. ' +\n",
       "                'Performance may be slow.';\n",
       "        }\n",
       "    }\n",
       "\n",
       "    this.imageObj = new Image();\n",
       "\n",
       "    this.context = undefined;\n",
       "    this.message = undefined;\n",
       "    this.canvas = undefined;\n",
       "    this.rubberband_canvas = undefined;\n",
       "    this.rubberband_context = undefined;\n",
       "    this.format_dropdown = undefined;\n",
       "\n",
       "    this.image_mode = 'full';\n",
       "\n",
       "    this.root = document.createElement('div');\n",
       "    this.root.setAttribute('style', 'display: inline-block');\n",
       "    this._root_extra_style(this.root);\n",
       "\n",
       "    parent_element.appendChild(this.root);\n",
       "\n",
       "    this._init_header(this);\n",
       "    this._init_canvas(this);\n",
       "    this._init_toolbar(this);\n",
       "\n",
       "    var fig = this;\n",
       "\n",
       "    this.waiting = false;\n",
       "\n",
       "    this.ws.onopen = function () {\n",
       "        fig.send_message('supports_binary', { value: fig.supports_binary });\n",
       "        fig.send_message('send_image_mode', {});\n",
       "        if (fig.ratio !== 1) {\n",
       "            fig.send_message('set_device_pixel_ratio', {\n",
       "                device_pixel_ratio: fig.ratio,\n",
       "            });\n",
       "        }\n",
       "        fig.send_message('refresh', {});\n",
       "    };\n",
       "\n",
       "    this.imageObj.onload = function () {\n",
       "        if (fig.image_mode === 'full') {\n",
       "            // Full images could contain transparency (where diff images\n",
       "            // almost always do), so we need to clear the canvas so that\n",
       "            // there is no ghosting.\n",
       "            fig.context.clearRect(0, 0, fig.canvas.width, fig.canvas.height);\n",
       "        }\n",
       "        fig.context.drawImage(fig.imageObj, 0, 0);\n",
       "    };\n",
       "\n",
       "    this.imageObj.onunload = function () {\n",
       "        fig.ws.close();\n",
       "    };\n",
       "\n",
       "    this.ws.onmessage = this._make_on_message_function(this);\n",
       "\n",
       "    this.ondownload = ondownload;\n",
       "};\n",
       "\n",
       "mpl.figure.prototype._init_header = function () {\n",
       "    var titlebar = document.createElement('div');\n",
       "    titlebar.classList =\n",
       "        'ui-dialog-titlebar ui-widget-header ui-corner-all ui-helper-clearfix';\n",
       "    var titletext = document.createElement('div');\n",
       "    titletext.classList = 'ui-dialog-title';\n",
       "    titletext.setAttribute(\n",
       "        'style',\n",
       "        'width: 100%; text-align: center; padding: 3px;'\n",
       "    );\n",
       "    titlebar.appendChild(titletext);\n",
       "    this.root.appendChild(titlebar);\n",
       "    this.header = titletext;\n",
       "};\n",
       "\n",
       "mpl.figure.prototype._canvas_extra_style = function (_canvas_div) {};\n",
       "\n",
       "mpl.figure.prototype._root_extra_style = function (_canvas_div) {};\n",
       "\n",
       "mpl.figure.prototype._init_canvas = function () {\n",
       "    var fig = this;\n",
       "\n",
       "    var canvas_div = (this.canvas_div = document.createElement('div'));\n",
       "    canvas_div.setAttribute('tabindex', '0');\n",
       "    canvas_div.setAttribute(\n",
       "        'style',\n",
       "        'border: 1px solid #ddd;' +\n",
       "            'box-sizing: content-box;' +\n",
       "            'clear: both;' +\n",
       "            'min-height: 1px;' +\n",
       "            'min-width: 1px;' +\n",
       "            'outline: 0;' +\n",
       "            'overflow: hidden;' +\n",
       "            'position: relative;' +\n",
       "            'resize: both;' +\n",
       "            'z-index: 2;'\n",
       "    );\n",
       "\n",
       "    function on_keyboard_event_closure(name) {\n",
       "        return function (event) {\n",
       "            return fig.key_event(event, name);\n",
       "        };\n",
       "    }\n",
       "\n",
       "    canvas_div.addEventListener(\n",
       "        'keydown',\n",
       "        on_keyboard_event_closure('key_press')\n",
       "    );\n",
       "    canvas_div.addEventListener(\n",
       "        'keyup',\n",
       "        on_keyboard_event_closure('key_release')\n",
       "    );\n",
       "\n",
       "    this._canvas_extra_style(canvas_div);\n",
       "    this.root.appendChild(canvas_div);\n",
       "\n",
       "    var canvas = (this.canvas = document.createElement('canvas'));\n",
       "    canvas.classList.add('mpl-canvas');\n",
       "    canvas.setAttribute(\n",
       "        'style',\n",
       "        'box-sizing: content-box;' +\n",
       "            'pointer-events: none;' +\n",
       "            'position: relative;' +\n",
       "            'z-index: 0;'\n",
       "    );\n",
       "\n",
       "    this.context = canvas.getContext('2d');\n",
       "\n",
       "    var backingStore =\n",
       "        this.context.backingStorePixelRatio ||\n",
       "        this.context.webkitBackingStorePixelRatio ||\n",
       "        this.context.mozBackingStorePixelRatio ||\n",
       "        this.context.msBackingStorePixelRatio ||\n",
       "        this.context.oBackingStorePixelRatio ||\n",
       "        this.context.backingStorePixelRatio ||\n",
       "        1;\n",
       "\n",
       "    this.ratio = (window.devicePixelRatio || 1) / backingStore;\n",
       "\n",
       "    var rubberband_canvas = (this.rubberband_canvas = document.createElement(\n",
       "        'canvas'\n",
       "    ));\n",
       "    rubberband_canvas.setAttribute(\n",
       "        'style',\n",
       "        'box-sizing: content-box;' +\n",
       "            'left: 0;' +\n",
       "            'pointer-events: none;' +\n",
       "            'position: absolute;' +\n",
       "            'top: 0;' +\n",
       "            'z-index: 1;'\n",
       "    );\n",
       "\n",
       "    // Apply a ponyfill if ResizeObserver is not implemented by browser.\n",
       "    if (this.ResizeObserver === undefined) {\n",
       "        if (window.ResizeObserver !== undefined) {\n",
       "            this.ResizeObserver = window.ResizeObserver;\n",
       "        } else {\n",
       "            var obs = _JSXTOOLS_RESIZE_OBSERVER({});\n",
       "            this.ResizeObserver = obs.ResizeObserver;\n",
       "        }\n",
       "    }\n",
       "\n",
       "    this.resizeObserverInstance = new this.ResizeObserver(function (entries) {\n",
       "        var nentries = entries.length;\n",
       "        for (var i = 0; i < nentries; i++) {\n",
       "            var entry = entries[i];\n",
       "            var width, height;\n",
       "            if (entry.contentBoxSize) {\n",
       "                if (entry.contentBoxSize instanceof Array) {\n",
       "                    // Chrome 84 implements new version of spec.\n",
       "                    width = entry.contentBoxSize[0].inlineSize;\n",
       "                    height = entry.contentBoxSize[0].blockSize;\n",
       "                } else {\n",
       "                    // Firefox implements old version of spec.\n",
       "                    width = entry.contentBoxSize.inlineSize;\n",
       "                    height = entry.contentBoxSize.blockSize;\n",
       "                }\n",
       "            } else {\n",
       "                // Chrome <84 implements even older version of spec.\n",
       "                width = entry.contentRect.width;\n",
       "                height = entry.contentRect.height;\n",
       "            }\n",
       "\n",
       "            // Keep the size of the canvas and rubber band canvas in sync with\n",
       "            // the canvas container.\n",
       "            if (entry.devicePixelContentBoxSize) {\n",
       "                // Chrome 84 implements new version of spec.\n",
       "                canvas.setAttribute(\n",
       "                    'width',\n",
       "                    entry.devicePixelContentBoxSize[0].inlineSize\n",
       "                );\n",
       "                canvas.setAttribute(\n",
       "                    'height',\n",
       "                    entry.devicePixelContentBoxSize[0].blockSize\n",
       "                );\n",
       "            } else {\n",
       "                canvas.setAttribute('width', width * fig.ratio);\n",
       "                canvas.setAttribute('height', height * fig.ratio);\n",
       "            }\n",
       "            /* This rescales the canvas back to display pixels, so that it\n",
       "             * appears correct on HiDPI screens. */\n",
       "            canvas.style.width = width + 'px';\n",
       "            canvas.style.height = height + 'px';\n",
       "\n",
       "            rubberband_canvas.setAttribute('width', width);\n",
       "            rubberband_canvas.setAttribute('height', height);\n",
       "\n",
       "            // And update the size in Python. We ignore the initial 0/0 size\n",
       "            // that occurs as the element is placed into the DOM, which should\n",
       "            // otherwise not happen due to the minimum size styling.\n",
       "            if (fig.ws.readyState == 1 && width != 0 && height != 0) {\n",
       "                fig.request_resize(width, height);\n",
       "            }\n",
       "        }\n",
       "    });\n",
       "    this.resizeObserverInstance.observe(canvas_div);\n",
       "\n",
       "    function on_mouse_event_closure(name) {\n",
       "        /* User Agent sniffing is bad, but WebKit is busted:\n",
       "         * https://bugs.webkit.org/show_bug.cgi?id=144526\n",
       "         * https://bugs.webkit.org/show_bug.cgi?id=181818\n",
       "         * The worst that happens here is that they get an extra browser\n",
       "         * selection when dragging, if this check fails to catch them.\n",
       "         */\n",
       "        var UA = navigator.userAgent;\n",
       "        var isWebKit = /AppleWebKit/.test(UA) && !/Chrome/.test(UA);\n",
       "        if(isWebKit) {\n",
       "            return function (event) {\n",
       "                /* This prevents the web browser from automatically changing to\n",
       "                 * the text insertion cursor when the button is pressed. We\n",
       "                 * want to control all of the cursor setting manually through\n",
       "                 * the 'cursor' event from matplotlib */\n",
       "                event.preventDefault()\n",
       "                return fig.mouse_event(event, name);\n",
       "            };\n",
       "        } else {\n",
       "            return function (event) {\n",
       "                return fig.mouse_event(event, name);\n",
       "            };\n",
       "        }\n",
       "    }\n",
       "\n",
       "    canvas_div.addEventListener(\n",
       "        'mousedown',\n",
       "        on_mouse_event_closure('button_press')\n",
       "    );\n",
       "    canvas_div.addEventListener(\n",
       "        'mouseup',\n",
       "        on_mouse_event_closure('button_release')\n",
       "    );\n",
       "    canvas_div.addEventListener(\n",
       "        'dblclick',\n",
       "        on_mouse_event_closure('dblclick')\n",
       "    );\n",
       "    // Throttle sequential mouse events to 1 every 20ms.\n",
       "    canvas_div.addEventListener(\n",
       "        'mousemove',\n",
       "        on_mouse_event_closure('motion_notify')\n",
       "    );\n",
       "\n",
       "    canvas_div.addEventListener(\n",
       "        'mouseenter',\n",
       "        on_mouse_event_closure('figure_enter')\n",
       "    );\n",
       "    canvas_div.addEventListener(\n",
       "        'mouseleave',\n",
       "        on_mouse_event_closure('figure_leave')\n",
       "    );\n",
       "\n",
       "    canvas_div.addEventListener('wheel', function (event) {\n",
       "        if (event.deltaY < 0) {\n",
       "            event.step = 1;\n",
       "        } else {\n",
       "            event.step = -1;\n",
       "        }\n",
       "        on_mouse_event_closure('scroll')(event);\n",
       "    });\n",
       "\n",
       "    canvas_div.appendChild(canvas);\n",
       "    canvas_div.appendChild(rubberband_canvas);\n",
       "\n",
       "    this.rubberband_context = rubberband_canvas.getContext('2d');\n",
       "    this.rubberband_context.strokeStyle = '#000000';\n",
       "\n",
       "    this._resize_canvas = function (width, height, forward) {\n",
       "        if (forward) {\n",
       "            canvas_div.style.width = width + 'px';\n",
       "            canvas_div.style.height = height + 'px';\n",
       "        }\n",
       "    };\n",
       "\n",
       "    // Disable right mouse context menu.\n",
       "    canvas_div.addEventListener('contextmenu', function (_e) {\n",
       "        event.preventDefault();\n",
       "        return false;\n",
       "    });\n",
       "\n",
       "    function set_focus() {\n",
       "        canvas.focus();\n",
       "        canvas_div.focus();\n",
       "    }\n",
       "\n",
       "    window.setTimeout(set_focus, 100);\n",
       "};\n",
       "\n",
       "mpl.figure.prototype._init_toolbar = function () {\n",
       "    var fig = this;\n",
       "\n",
       "    var toolbar = document.createElement('div');\n",
       "    toolbar.classList = 'mpl-toolbar';\n",
       "    this.root.appendChild(toolbar);\n",
       "\n",
       "    function on_click_closure(name) {\n",
       "        return function (_event) {\n",
       "            return fig.toolbar_button_onclick(name);\n",
       "        };\n",
       "    }\n",
       "\n",
       "    function on_mouseover_closure(tooltip) {\n",
       "        return function (event) {\n",
       "            if (!event.currentTarget.disabled) {\n",
       "                return fig.toolbar_button_onmouseover(tooltip);\n",
       "            }\n",
       "        };\n",
       "    }\n",
       "\n",
       "    fig.buttons = {};\n",
       "    var buttonGroup = document.createElement('div');\n",
       "    buttonGroup.classList = 'mpl-button-group';\n",
       "    for (var toolbar_ind in mpl.toolbar_items) {\n",
       "        var name = mpl.toolbar_items[toolbar_ind][0];\n",
       "        var tooltip = mpl.toolbar_items[toolbar_ind][1];\n",
       "        var image = mpl.toolbar_items[toolbar_ind][2];\n",
       "        var method_name = mpl.toolbar_items[toolbar_ind][3];\n",
       "\n",
       "        if (!name) {\n",
       "            /* Instead of a spacer, we start a new button group. */\n",
       "            if (buttonGroup.hasChildNodes()) {\n",
       "                toolbar.appendChild(buttonGroup);\n",
       "            }\n",
       "            buttonGroup = document.createElement('div');\n",
       "            buttonGroup.classList = 'mpl-button-group';\n",
       "            continue;\n",
       "        }\n",
       "\n",
       "        var button = (fig.buttons[name] = document.createElement('button'));\n",
       "        button.classList = 'mpl-widget';\n",
       "        button.setAttribute('role', 'button');\n",
       "        button.setAttribute('aria-disabled', 'false');\n",
       "        button.addEventListener('click', on_click_closure(method_name));\n",
       "        button.addEventListener('mouseover', on_mouseover_closure(tooltip));\n",
       "\n",
       "        var icon_img = document.createElement('img');\n",
       "        icon_img.src = '_images/' + image + '.png';\n",
       "        icon_img.srcset = '_images/' + image + '_large.png 2x';\n",
       "        icon_img.alt = tooltip;\n",
       "        button.appendChild(icon_img);\n",
       "\n",
       "        buttonGroup.appendChild(button);\n",
       "    }\n",
       "\n",
       "    if (buttonGroup.hasChildNodes()) {\n",
       "        toolbar.appendChild(buttonGroup);\n",
       "    }\n",
       "\n",
       "    var fmt_picker = document.createElement('select');\n",
       "    fmt_picker.classList = 'mpl-widget';\n",
       "    toolbar.appendChild(fmt_picker);\n",
       "    this.format_dropdown = fmt_picker;\n",
       "\n",
       "    for (var ind in mpl.extensions) {\n",
       "        var fmt = mpl.extensions[ind];\n",
       "        var option = document.createElement('option');\n",
       "        option.selected = fmt === mpl.default_extension;\n",
       "        option.innerHTML = fmt;\n",
       "        fmt_picker.appendChild(option);\n",
       "    }\n",
       "\n",
       "    var status_bar = document.createElement('span');\n",
       "    status_bar.classList = 'mpl-message';\n",
       "    toolbar.appendChild(status_bar);\n",
       "    this.message = status_bar;\n",
       "};\n",
       "\n",
       "mpl.figure.prototype.request_resize = function (x_pixels, y_pixels) {\n",
       "    // Request matplotlib to resize the figure. Matplotlib will then trigger a resize in the client,\n",
       "    // which will in turn request a refresh of the image.\n",
       "    this.send_message('resize', { width: x_pixels, height: y_pixels });\n",
       "};\n",
       "\n",
       "mpl.figure.prototype.send_message = function (type, properties) {\n",
       "    properties['type'] = type;\n",
       "    properties['figure_id'] = this.id;\n",
       "    this.ws.send(JSON.stringify(properties));\n",
       "};\n",
       "\n",
       "mpl.figure.prototype.send_draw_message = function () {\n",
       "    if (!this.waiting) {\n",
       "        this.waiting = true;\n",
       "        this.ws.send(JSON.stringify({ type: 'draw', figure_id: this.id }));\n",
       "    }\n",
       "};\n",
       "\n",
       "mpl.figure.prototype.handle_save = function (fig, _msg) {\n",
       "    var format_dropdown = fig.format_dropdown;\n",
       "    var format = format_dropdown.options[format_dropdown.selectedIndex].value;\n",
       "    fig.ondownload(fig, format);\n",
       "};\n",
       "\n",
       "mpl.figure.prototype.handle_resize = function (fig, msg) {\n",
       "    var size = msg['size'];\n",
       "    if (size[0] !== fig.canvas.width || size[1] !== fig.canvas.height) {\n",
       "        fig._resize_canvas(size[0], size[1], msg['forward']);\n",
       "        fig.send_message('refresh', {});\n",
       "    }\n",
       "};\n",
       "\n",
       "mpl.figure.prototype.handle_rubberband = function (fig, msg) {\n",
       "    var x0 = msg['x0'] / fig.ratio;\n",
       "    var y0 = (fig.canvas.height - msg['y0']) / fig.ratio;\n",
       "    var x1 = msg['x1'] / fig.ratio;\n",
       "    var y1 = (fig.canvas.height - msg['y1']) / fig.ratio;\n",
       "    x0 = Math.floor(x0) + 0.5;\n",
       "    y0 = Math.floor(y0) + 0.5;\n",
       "    x1 = Math.floor(x1) + 0.5;\n",
       "    y1 = Math.floor(y1) + 0.5;\n",
       "    var min_x = Math.min(x0, x1);\n",
       "    var min_y = Math.min(y0, y1);\n",
       "    var width = Math.abs(x1 - x0);\n",
       "    var height = Math.abs(y1 - y0);\n",
       "\n",
       "    fig.rubberband_context.clearRect(\n",
       "        0,\n",
       "        0,\n",
       "        fig.canvas.width / fig.ratio,\n",
       "        fig.canvas.height / fig.ratio\n",
       "    );\n",
       "\n",
       "    fig.rubberband_context.strokeRect(min_x, min_y, width, height);\n",
       "};\n",
       "\n",
       "mpl.figure.prototype.handle_figure_label = function (fig, msg) {\n",
       "    // Updates the figure title.\n",
       "    fig.header.textContent = msg['label'];\n",
       "};\n",
       "\n",
       "mpl.figure.prototype.handle_cursor = function (fig, msg) {\n",
       "    fig.canvas_div.style.cursor = msg['cursor'];\n",
       "};\n",
       "\n",
       "mpl.figure.prototype.handle_message = function (fig, msg) {\n",
       "    fig.message.textContent = msg['message'];\n",
       "};\n",
       "\n",
       "mpl.figure.prototype.handle_draw = function (fig, _msg) {\n",
       "    // Request the server to send over a new figure.\n",
       "    fig.send_draw_message();\n",
       "};\n",
       "\n",
       "mpl.figure.prototype.handle_image_mode = function (fig, msg) {\n",
       "    fig.image_mode = msg['mode'];\n",
       "};\n",
       "\n",
       "mpl.figure.prototype.handle_history_buttons = function (fig, msg) {\n",
       "    for (var key in msg) {\n",
       "        if (!(key in fig.buttons)) {\n",
       "            continue;\n",
       "        }\n",
       "        fig.buttons[key].disabled = !msg[key];\n",
       "        fig.buttons[key].setAttribute('aria-disabled', !msg[key]);\n",
       "    }\n",
       "};\n",
       "\n",
       "mpl.figure.prototype.handle_navigate_mode = function (fig, msg) {\n",
       "    if (msg['mode'] === 'PAN') {\n",
       "        fig.buttons['Pan'].classList.add('active');\n",
       "        fig.buttons['Zoom'].classList.remove('active');\n",
       "    } else if (msg['mode'] === 'ZOOM') {\n",
       "        fig.buttons['Pan'].classList.remove('active');\n",
       "        fig.buttons['Zoom'].classList.add('active');\n",
       "    } else {\n",
       "        fig.buttons['Pan'].classList.remove('active');\n",
       "        fig.buttons['Zoom'].classList.remove('active');\n",
       "    }\n",
       "};\n",
       "\n",
       "mpl.figure.prototype.updated_canvas_event = function () {\n",
       "    // Called whenever the canvas gets updated.\n",
       "    this.send_message('ack', {});\n",
       "};\n",
       "\n",
       "// A function to construct a web socket function for onmessage handling.\n",
       "// Called in the figure constructor.\n",
       "mpl.figure.prototype._make_on_message_function = function (fig) {\n",
       "    return function socket_on_message(evt) {\n",
       "        if (evt.data instanceof Blob) {\n",
       "            var img = evt.data;\n",
       "            if (img.type !== 'image/png') {\n",
       "                /* FIXME: We get \"Resource interpreted as Image but\n",
       "                 * transferred with MIME type text/plain:\" errors on\n",
       "                 * Chrome.  But how to set the MIME type?  It doesn't seem\n",
       "                 * to be part of the websocket stream */\n",
       "                img.type = 'image/png';\n",
       "            }\n",
       "\n",
       "            /* Free the memory for the previous frames */\n",
       "            if (fig.imageObj.src) {\n",
       "                (window.URL || window.webkitURL).revokeObjectURL(\n",
       "                    fig.imageObj.src\n",
       "                );\n",
       "            }\n",
       "\n",
       "            fig.imageObj.src = (window.URL || window.webkitURL).createObjectURL(\n",
       "                img\n",
       "            );\n",
       "            fig.updated_canvas_event();\n",
       "            fig.waiting = false;\n",
       "            return;\n",
       "        } else if (\n",
       "            typeof evt.data === 'string' &&\n",
       "            evt.data.slice(0, 21) === 'data:image/png;base64'\n",
       "        ) {\n",
       "            fig.imageObj.src = evt.data;\n",
       "            fig.updated_canvas_event();\n",
       "            fig.waiting = false;\n",
       "            return;\n",
       "        }\n",
       "\n",
       "        var msg = JSON.parse(evt.data);\n",
       "        var msg_type = msg['type'];\n",
       "\n",
       "        // Call the  \"handle_{type}\" callback, which takes\n",
       "        // the figure and JSON message as its only arguments.\n",
       "        try {\n",
       "            var callback = fig['handle_' + msg_type];\n",
       "        } catch (e) {\n",
       "            console.log(\n",
       "                \"No handler for the '\" + msg_type + \"' message type: \",\n",
       "                msg\n",
       "            );\n",
       "            return;\n",
       "        }\n",
       "\n",
       "        if (callback) {\n",
       "            try {\n",
       "                // console.log(\"Handling '\" + msg_type + \"' message: \", msg);\n",
       "                callback(fig, msg);\n",
       "            } catch (e) {\n",
       "                console.log(\n",
       "                    \"Exception inside the 'handler_\" + msg_type + \"' callback:\",\n",
       "                    e,\n",
       "                    e.stack,\n",
       "                    msg\n",
       "                );\n",
       "            }\n",
       "        }\n",
       "    };\n",
       "};\n",
       "\n",
       "function getModifiers(event) {\n",
       "    var mods = [];\n",
       "    if (event.ctrlKey) {\n",
       "        mods.push('ctrl');\n",
       "    }\n",
       "    if (event.altKey) {\n",
       "        mods.push('alt');\n",
       "    }\n",
       "    if (event.shiftKey) {\n",
       "        mods.push('shift');\n",
       "    }\n",
       "    if (event.metaKey) {\n",
       "        mods.push('meta');\n",
       "    }\n",
       "    return mods;\n",
       "}\n",
       "\n",
       "/*\n",
       " * return a copy of an object with only non-object keys\n",
       " * we need this to avoid circular references\n",
       " * https://stackoverflow.com/a/24161582/3208463\n",
       " */\n",
       "function simpleKeys(original) {\n",
       "    return Object.keys(original).reduce(function (obj, key) {\n",
       "        if (typeof original[key] !== 'object') {\n",
       "            obj[key] = original[key];\n",
       "        }\n",
       "        return obj;\n",
       "    }, {});\n",
       "}\n",
       "\n",
       "mpl.figure.prototype.mouse_event = function (event, name) {\n",
       "    if (name === 'button_press') {\n",
       "        this.canvas.focus();\n",
       "        this.canvas_div.focus();\n",
       "    }\n",
       "\n",
       "    // from https://stackoverflow.com/q/1114465\n",
       "    var boundingRect = this.canvas.getBoundingClientRect();\n",
       "    var x = (event.clientX - boundingRect.left) * this.ratio;\n",
       "    var y = (event.clientY - boundingRect.top) * this.ratio;\n",
       "\n",
       "    this.send_message(name, {\n",
       "        x: x,\n",
       "        y: y,\n",
       "        button: event.button,\n",
       "        step: event.step,\n",
       "        modifiers: getModifiers(event),\n",
       "        guiEvent: simpleKeys(event),\n",
       "    });\n",
       "\n",
       "    return false;\n",
       "};\n",
       "\n",
       "mpl.figure.prototype._key_event_extra = function (_event, _name) {\n",
       "    // Handle any extra behaviour associated with a key event\n",
       "};\n",
       "\n",
       "mpl.figure.prototype.key_event = function (event, name) {\n",
       "    // Prevent repeat events\n",
       "    if (name === 'key_press') {\n",
       "        if (event.key === this._key) {\n",
       "            return;\n",
       "        } else {\n",
       "            this._key = event.key;\n",
       "        }\n",
       "    }\n",
       "    if (name === 'key_release') {\n",
       "        this._key = null;\n",
       "    }\n",
       "\n",
       "    var value = '';\n",
       "    if (event.ctrlKey && event.key !== 'Control') {\n",
       "        value += 'ctrl+';\n",
       "    }\n",
       "    else if (event.altKey && event.key !== 'Alt') {\n",
       "        value += 'alt+';\n",
       "    }\n",
       "    else if (event.shiftKey && event.key !== 'Shift') {\n",
       "        value += 'shift+';\n",
       "    }\n",
       "\n",
       "    value += 'k' + event.key;\n",
       "\n",
       "    this._key_event_extra(event, name);\n",
       "\n",
       "    this.send_message(name, { key: value, guiEvent: simpleKeys(event) });\n",
       "    return false;\n",
       "};\n",
       "\n",
       "mpl.figure.prototype.toolbar_button_onclick = function (name) {\n",
       "    if (name === 'download') {\n",
       "        this.handle_save(this, null);\n",
       "    } else {\n",
       "        this.send_message('toolbar_button', { name: name });\n",
       "    }\n",
       "};\n",
       "\n",
       "mpl.figure.prototype.toolbar_button_onmouseover = function (tooltip) {\n",
       "    this.message.textContent = tooltip;\n",
       "};\n",
       "\n",
       "///////////////// REMAINING CONTENT GENERATED BY embed_js.py /////////////////\n",
       "// prettier-ignore\n",
       "var _JSXTOOLS_RESIZE_OBSERVER=function(A){var t,i=new WeakMap,n=new WeakMap,a=new WeakMap,r=new WeakMap,o=new Set;function s(e){if(!(this instanceof s))throw new TypeError(\"Constructor requires 'new' operator\");i.set(this,e)}function h(){throw new TypeError(\"Function is not a constructor\")}function c(e,t,i,n){e=0 in arguments?Number(arguments[0]):0,t=1 in arguments?Number(arguments[1]):0,i=2 in arguments?Number(arguments[2]):0,n=3 in arguments?Number(arguments[3]):0,this.right=(this.x=this.left=e)+(this.width=i),this.bottom=(this.y=this.top=t)+(this.height=n),Object.freeze(this)}function d(){t=requestAnimationFrame(d);var s=new WeakMap,p=new Set;o.forEach((function(t){r.get(t).forEach((function(i){var r=t instanceof window.SVGElement,o=a.get(t),d=r?0:parseFloat(o.paddingTop),f=r?0:parseFloat(o.paddingRight),l=r?0:parseFloat(o.paddingBottom),u=r?0:parseFloat(o.paddingLeft),g=r?0:parseFloat(o.borderTopWidth),m=r?0:parseFloat(o.borderRightWidth),w=r?0:parseFloat(o.borderBottomWidth),b=u+f,F=d+l,v=(r?0:parseFloat(o.borderLeftWidth))+m,W=g+w,y=r?0:t.offsetHeight-W-t.clientHeight,E=r?0:t.offsetWidth-v-t.clientWidth,R=b+v,z=F+W,M=r?t.width:parseFloat(o.width)-R-E,O=r?t.height:parseFloat(o.height)-z-y;if(n.has(t)){var k=n.get(t);if(k[0]===M&&k[1]===O)return}n.set(t,[M,O]);var S=Object.create(h.prototype);S.target=t,S.contentRect=new c(u,d,M,O),s.has(i)||(s.set(i,[]),p.add(i)),s.get(i).push(S)}))})),p.forEach((function(e){i.get(e).call(e,s.get(e),e)}))}return s.prototype.observe=function(i){if(i instanceof window.Element){r.has(i)||(r.set(i,new Set),o.add(i),a.set(i,window.getComputedStyle(i)));var n=r.get(i);n.has(this)||n.add(this),cancelAnimationFrame(t),t=requestAnimationFrame(d)}},s.prototype.unobserve=function(i){if(i instanceof window.Element&&r.has(i)){var n=r.get(i);n.has(this)&&(n.delete(this),n.size||(r.delete(i),o.delete(i))),n.size||r.delete(i),o.size||cancelAnimationFrame(t)}},A.DOMRectReadOnly=c,A.ResizeObserver=s,A.ResizeObserverEntry=h,A}; // eslint-disable-line\n",
       "mpl.toolbar_items = [[\"Home\", \"Reset original view\", \"fa fa-home\", \"home\"], [\"Back\", \"Back to previous view\", \"fa fa-arrow-left\", \"back\"], [\"Forward\", \"Forward to next view\", \"fa fa-arrow-right\", \"forward\"], [\"\", \"\", \"\", \"\"], [\"Pan\", \"Left button pans, Right button zooms\\nx/y fixes axis, CTRL fixes aspect\", \"fa fa-arrows\", \"pan\"], [\"Zoom\", \"Zoom to rectangle\\nx/y fixes axis\", \"fa fa-square-o\", \"zoom\"], [\"\", \"\", \"\", \"\"], [\"Download\", \"Download plot\", \"fa fa-floppy-o\", \"download\"]];\n",
       "\n",
       "mpl.extensions = [\"eps\", \"jpeg\", \"pgf\", \"pdf\", \"png\", \"ps\", \"raw\", \"svg\", \"tif\", \"webp\"];\n",
       "\n",
       "mpl.default_extension = \"png\";/* global mpl */\n",
       "\n",
       "var comm_websocket_adapter = function (comm) {\n",
       "    // Create a \"websocket\"-like object which calls the given IPython comm\n",
       "    // object with the appropriate methods. Currently this is a non binary\n",
       "    // socket, so there is still some room for performance tuning.\n",
       "    var ws = {};\n",
       "\n",
       "    ws.binaryType = comm.kernel.ws.binaryType;\n",
       "    ws.readyState = comm.kernel.ws.readyState;\n",
       "    function updateReadyState(_event) {\n",
       "        if (comm.kernel.ws) {\n",
       "            ws.readyState = comm.kernel.ws.readyState;\n",
       "        } else {\n",
       "            ws.readyState = 3; // Closed state.\n",
       "        }\n",
       "    }\n",
       "    comm.kernel.ws.addEventListener('open', updateReadyState);\n",
       "    comm.kernel.ws.addEventListener('close', updateReadyState);\n",
       "    comm.kernel.ws.addEventListener('error', updateReadyState);\n",
       "\n",
       "    ws.close = function () {\n",
       "        comm.close();\n",
       "    };\n",
       "    ws.send = function (m) {\n",
       "        //console.log('sending', m);\n",
       "        comm.send(m);\n",
       "    };\n",
       "    // Register the callback with on_msg.\n",
       "    comm.on_msg(function (msg) {\n",
       "        //console.log('receiving', msg['content']['data'], msg);\n",
       "        var data = msg['content']['data'];\n",
       "        if (data['blob'] !== undefined) {\n",
       "            data = {\n",
       "                data: new Blob(msg['buffers'], { type: data['blob'] }),\n",
       "            };\n",
       "        }\n",
       "        // Pass the mpl event to the overridden (by mpl) onmessage function.\n",
       "        ws.onmessage(data);\n",
       "    });\n",
       "    return ws;\n",
       "};\n",
       "\n",
       "mpl.mpl_figure_comm = function (comm, msg) {\n",
       "    // This is the function which gets called when the mpl process\n",
       "    // starts-up an IPython Comm through the \"matplotlib\" channel.\n",
       "\n",
       "    var id = msg.content.data.id;\n",
       "    // Get hold of the div created by the display call when the Comm\n",
       "    // socket was opened in Python.\n",
       "    var element = document.getElementById(id);\n",
       "    var ws_proxy = comm_websocket_adapter(comm);\n",
       "\n",
       "    function ondownload(figure, _format) {\n",
       "        window.open(figure.canvas.toDataURL());\n",
       "    }\n",
       "\n",
       "    var fig = new mpl.figure(id, ws_proxy, ondownload, element);\n",
       "\n",
       "    // Call onopen now - mpl needs it, as it is assuming we've passed it a real\n",
       "    // web socket which is closed, not our websocket->open comm proxy.\n",
       "    ws_proxy.onopen();\n",
       "\n",
       "    fig.parent_element = element;\n",
       "    fig.cell_info = mpl.find_output_cell(\"<div id='\" + id + \"'></div>\");\n",
       "    if (!fig.cell_info) {\n",
       "        console.error('Failed to find cell for figure', id, fig);\n",
       "        return;\n",
       "    }\n",
       "    fig.cell_info[0].output_area.element.on(\n",
       "        'cleared',\n",
       "        { fig: fig },\n",
       "        fig._remove_fig_handler\n",
       "    );\n",
       "};\n",
       "\n",
       "mpl.figure.prototype.handle_close = function (fig, msg) {\n",
       "    var width = fig.canvas.width / fig.ratio;\n",
       "    fig.cell_info[0].output_area.element.off(\n",
       "        'cleared',\n",
       "        fig._remove_fig_handler\n",
       "    );\n",
       "    fig.resizeObserverInstance.unobserve(fig.canvas_div);\n",
       "\n",
       "    // Update the output cell to use the data from the current canvas.\n",
       "    fig.push_to_output();\n",
       "    var dataURL = fig.canvas.toDataURL();\n",
       "    // Re-enable the keyboard manager in IPython - without this line, in FF,\n",
       "    // the notebook keyboard shortcuts fail.\n",
       "    IPython.keyboard_manager.enable();\n",
       "    fig.parent_element.innerHTML =\n",
       "        '<img src=\"' + dataURL + '\" width=\"' + width + '\">';\n",
       "    fig.close_ws(fig, msg);\n",
       "};\n",
       "\n",
       "mpl.figure.prototype.close_ws = function (fig, msg) {\n",
       "    fig.send_message('closing', msg);\n",
       "    // fig.ws.close()\n",
       "};\n",
       "\n",
       "mpl.figure.prototype.push_to_output = function (_remove_interactive) {\n",
       "    // Turn the data on the canvas into data in the output cell.\n",
       "    var width = this.canvas.width / this.ratio;\n",
       "    var dataURL = this.canvas.toDataURL();\n",
       "    this.cell_info[1]['text/html'] =\n",
       "        '<img src=\"' + dataURL + '\" width=\"' + width + '\">';\n",
       "};\n",
       "\n",
       "mpl.figure.prototype.updated_canvas_event = function () {\n",
       "    // Tell IPython that the notebook contents must change.\n",
       "    IPython.notebook.set_dirty(true);\n",
       "    this.send_message('ack', {});\n",
       "    var fig = this;\n",
       "    // Wait a second, then push the new image to the DOM so\n",
       "    // that it is saved nicely (might be nice to debounce this).\n",
       "    setTimeout(function () {\n",
       "        fig.push_to_output();\n",
       "    }, 1000);\n",
       "};\n",
       "\n",
       "mpl.figure.prototype._init_toolbar = function () {\n",
       "    var fig = this;\n",
       "\n",
       "    var toolbar = document.createElement('div');\n",
       "    toolbar.classList = 'btn-toolbar';\n",
       "    this.root.appendChild(toolbar);\n",
       "\n",
       "    function on_click_closure(name) {\n",
       "        return function (_event) {\n",
       "            return fig.toolbar_button_onclick(name);\n",
       "        };\n",
       "    }\n",
       "\n",
       "    function on_mouseover_closure(tooltip) {\n",
       "        return function (event) {\n",
       "            if (!event.currentTarget.disabled) {\n",
       "                return fig.toolbar_button_onmouseover(tooltip);\n",
       "            }\n",
       "        };\n",
       "    }\n",
       "\n",
       "    fig.buttons = {};\n",
       "    var buttonGroup = document.createElement('div');\n",
       "    buttonGroup.classList = 'btn-group';\n",
       "    var button;\n",
       "    for (var toolbar_ind in mpl.toolbar_items) {\n",
       "        var name = mpl.toolbar_items[toolbar_ind][0];\n",
       "        var tooltip = mpl.toolbar_items[toolbar_ind][1];\n",
       "        var image = mpl.toolbar_items[toolbar_ind][2];\n",
       "        var method_name = mpl.toolbar_items[toolbar_ind][3];\n",
       "\n",
       "        if (!name) {\n",
       "            /* Instead of a spacer, we start a new button group. */\n",
       "            if (buttonGroup.hasChildNodes()) {\n",
       "                toolbar.appendChild(buttonGroup);\n",
       "            }\n",
       "            buttonGroup = document.createElement('div');\n",
       "            buttonGroup.classList = 'btn-group';\n",
       "            continue;\n",
       "        }\n",
       "\n",
       "        button = fig.buttons[name] = document.createElement('button');\n",
       "        button.classList = 'btn btn-default';\n",
       "        button.href = '#';\n",
       "        button.title = name;\n",
       "        button.innerHTML = '<i class=\"fa ' + image + ' fa-lg\"></i>';\n",
       "        button.addEventListener('click', on_click_closure(method_name));\n",
       "        button.addEventListener('mouseover', on_mouseover_closure(tooltip));\n",
       "        buttonGroup.appendChild(button);\n",
       "    }\n",
       "\n",
       "    if (buttonGroup.hasChildNodes()) {\n",
       "        toolbar.appendChild(buttonGroup);\n",
       "    }\n",
       "\n",
       "    // Add the status bar.\n",
       "    var status_bar = document.createElement('span');\n",
       "    status_bar.classList = 'mpl-message pull-right';\n",
       "    toolbar.appendChild(status_bar);\n",
       "    this.message = status_bar;\n",
       "\n",
       "    // Add the close button to the window.\n",
       "    var buttongrp = document.createElement('div');\n",
       "    buttongrp.classList = 'btn-group inline pull-right';\n",
       "    button = document.createElement('button');\n",
       "    button.classList = 'btn btn-mini btn-primary';\n",
       "    button.href = '#';\n",
       "    button.title = 'Stop Interaction';\n",
       "    button.innerHTML = '<i class=\"fa fa-power-off icon-remove icon-large\"></i>';\n",
       "    button.addEventListener('click', function (_evt) {\n",
       "        fig.handle_close(fig, {});\n",
       "    });\n",
       "    button.addEventListener(\n",
       "        'mouseover',\n",
       "        on_mouseover_closure('Stop Interaction')\n",
       "    );\n",
       "    buttongrp.appendChild(button);\n",
       "    var titlebar = this.root.querySelector('.ui-dialog-titlebar');\n",
       "    titlebar.insertBefore(buttongrp, titlebar.firstChild);\n",
       "};\n",
       "\n",
       "mpl.figure.prototype._remove_fig_handler = function (event) {\n",
       "    var fig = event.data.fig;\n",
       "    if (event.target !== this) {\n",
       "        // Ignore bubbled events from children.\n",
       "        return;\n",
       "    }\n",
       "    fig.close_ws(fig, {});\n",
       "};\n",
       "\n",
       "mpl.figure.prototype._root_extra_style = function (el) {\n",
       "    el.style.boxSizing = 'content-box'; // override notebook setting of border-box.\n",
       "};\n",
       "\n",
       "mpl.figure.prototype._canvas_extra_style = function (el) {\n",
       "    // this is important to make the div 'focusable\n",
       "    el.setAttribute('tabindex', 0);\n",
       "    // reach out to IPython and tell the keyboard manager to turn it's self\n",
       "    // off when our div gets focus\n",
       "\n",
       "    // location in version 3\n",
       "    if (IPython.notebook.keyboard_manager) {\n",
       "        IPython.notebook.keyboard_manager.register_events(el);\n",
       "    } else {\n",
       "        // location in version 2\n",
       "        IPython.keyboard_manager.register_events(el);\n",
       "    }\n",
       "};\n",
       "\n",
       "mpl.figure.prototype._key_event_extra = function (event, _name) {\n",
       "    // Check for shift+enter\n",
       "    if (event.shiftKey && event.which === 13) {\n",
       "        this.canvas_div.blur();\n",
       "        // select the cell after this one\n",
       "        var index = IPython.notebook.find_cell_index(this.cell_info[0]);\n",
       "        IPython.notebook.select(index + 1);\n",
       "    }\n",
       "};\n",
       "\n",
       "mpl.figure.prototype.handle_save = function (fig, _msg) {\n",
       "    fig.ondownload(fig, null);\n",
       "};\n",
       "\n",
       "mpl.find_output_cell = function (html_output) {\n",
       "    // Return the cell and output element which can be found *uniquely* in the notebook.\n",
       "    // Note - this is a bit hacky, but it is done because the \"notebook_saving.Notebook\"\n",
       "    // IPython event is triggered only after the cells have been serialised, which for\n",
       "    // our purposes (turning an active figure into a static one), is too late.\n",
       "    var cells = IPython.notebook.get_cells();\n",
       "    var ncells = cells.length;\n",
       "    for (var i = 0; i < ncells; i++) {\n",
       "        var cell = cells[i];\n",
       "        if (cell.cell_type === 'code') {\n",
       "            for (var j = 0; j < cell.output_area.outputs.length; j++) {\n",
       "                var data = cell.output_area.outputs[j];\n",
       "                if (data.data) {\n",
       "                    // IPython >= 3 moved mimebundle to data attribute of output\n",
       "                    data = data.data;\n",
       "                }\n",
       "                if (data['text/html'] === html_output) {\n",
       "                    return [cell, data, j];\n",
       "                }\n",
       "            }\n",
       "        }\n",
       "    }\n",
       "};\n",
       "\n",
       "// Register the function which deals with the matplotlib target/channel.\n",
       "// The kernel may be null if the page has been refreshed.\n",
       "if (IPython.notebook.kernel !== null) {\n",
       "    IPython.notebook.kernel.comm_manager.register_target(\n",
       "        'matplotlib',\n",
       "        mpl.mpl_figure_comm\n",
       "    );\n",
       "}\n"
      ],
      "text/plain": [
       "<IPython.core.display.Javascript object>"
      ]
     },
     "metadata": {},
     "output_type": "display_data"
    },
    {
     "data": {
      "text/html": [
       "<img src=\"data:image/png;base64,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\" width=\"640\">"
      ],
      "text/plain": [
       "<IPython.core.display.HTML object>"
      ]
     },
     "metadata": {},
     "output_type": "display_data"
    },
    {
     "ename": "TypeError",
     "evalue": "FigureBase.gca() got an unexpected keyword argument 'projection'",
     "output_type": "error",
     "traceback": [
      "\u001b[1;31m---------------------------------------------------------------------------\u001b[0m",
      "\u001b[1;31mTypeError\u001b[0m                                 Traceback (most recent call last)",
      "Cell \u001b[1;32mIn[4], line 5\u001b[0m\n\u001b[0;32m      3\u001b[0m n_max \u001b[38;5;241m=\u001b[39m n_max_UE(E)\n\u001b[0;32m      4\u001b[0m fig \u001b[38;5;241m=\u001b[39m plt\u001b[38;5;241m.\u001b[39mfigure()\n\u001b[1;32m----> 5\u001b[0m ax \u001b[38;5;241m=\u001b[39m \u001b[43mfig\u001b[49m\u001b[38;5;241;43m.\u001b[39;49m\u001b[43mgca\u001b[49m\u001b[43m(\u001b[49m\u001b[43mprojection\u001b[49m\u001b[38;5;241;43m=\u001b[39;49m\u001b[38;5;124;43m'\u001b[39;49m\u001b[38;5;124;43m3d\u001b[39;49m\u001b[38;5;124;43m'\u001b[39;49m\u001b[43m)\u001b[49m\n\u001b[0;32m      6\u001b[0m X \u001b[38;5;241m=\u001b[39m \u001b[38;5;28mrange\u001b[39m(\u001b[38;5;241m1\u001b[39m,n_max)\n\u001b[0;32m      7\u001b[0m Y \u001b[38;5;241m=\u001b[39m \u001b[38;5;28mrange\u001b[39m(\u001b[38;5;241m1\u001b[39m,n_max)\n",
      "\u001b[1;31mTypeError\u001b[0m: FigureBase.gca() got an unexpected keyword argument 'projection'"
     ]
    }
   ],
   "source": [
    "%matplotlib notebook\n",
    "\n",
    "n_max = n_max_UE(E)\n",
    "fig = plt.figure()\n",
    "ax = fig.gca(projection='3d')\n",
    "X = range(1,n_max)\n",
    "Y = range(1,n_max)\n",
    "X, Y = np.meshgrid(X, Y)\n",
    "\n",
    "Z = Stat_distr[coef(X,Y,n_max)]\n",
    "\n",
    "\n",
    "\n",
    "surf = ax.plot_surface(X, Y, Z, cmap=cm.coolwarm, linewidth=0, antialiased=False)\n",
    "fig.colorbar(surf, shrink=0.5, aspect=5)\n",
    "\n",
    "plt.show()"
   ]
  },
  {
   "cell_type": "markdown",
   "id": "c447c0e1",
   "metadata": {},
   "source": [
    "# 2) Mixing Time"
   ]
  },
  {
   "cell_type": "markdown",
   "id": "575bd1da",
   "metadata": {},
   "source": [
    "The distance function $d$ is defined via the total variation $\\| \\cdot \\|_{TV}$, i.e.\n",
    "\n",
    "$$ d(t) = \\max\\limits_x \\|P^t_x - \\pi \\|_{TV} $$\n",
    "\n",
    "The mixing time $t_{mix}$ is defined as the time, at which $d(t)$ is less than $\\frac{1}{4}$, i.e.\n",
    "\n",
    "$$ t_{mix} = \\min \\{t: d(t) < \\frac{1}{4} \\} $$"
   ]
  },
  {
   "cell_type": "code",
   "execution_count": 5,
   "id": "76917260",
   "metadata": {},
   "outputs": [
    {
     "name": "stdout",
     "output_type": "stream",
     "text": [
      "Calculating P^12 for E=15\n"
     ]
    }
   ],
   "source": [
    "E_vec = [5,10,15]\n",
    "\n",
    "t_mix = [Mixing_time(E) for E in E_vec]"
   ]
  },
  {
   "cell_type": "code",
   "execution_count": 6,
   "id": "07cc9692",
   "metadata": {},
   "outputs": [
    {
     "data": {
      "text/plain": [
       "<matplotlib.collections.PathCollection at 0x1df96519c90>"
      ]
     },
     "execution_count": 6,
     "metadata": {},
     "output_type": "execute_result"
    }
   ],
   "source": [
    "%matplotlib inline\n",
    "plt.scatter(E_vec,t_mix)\n",
    "\n",
    "#regression_model = LinearRegression().fit(np.array(E_vec).reshape((-1, 1)), np.array(t_mix))\n",
    "\n",
    "#x = np.linspace(0,35,100).reshape((-1,1))\n",
    "#y = regression_model.predict(x)\n",
    "\n",
    "#plt.plot(x,y)\n",
    "\n",
    "#print(f'Regression function: t_mix(E) = {regression_model.coef_} E + {regression_model.intercept_}')"
   ]
  },
  {
   "cell_type": "markdown",
   "id": "c1d459c9",
   "metadata": {},
   "source": [
    "# 3) Verfication"
   ]
  },
  {
   "cell_type": "markdown",
   "id": "466822f3",
   "metadata": {},
   "source": [
    "### 3.1) Symmetric Island"
   ]
  },
  {
   "cell_type": "markdown",
   "id": "c595549b",
   "metadata": {},
   "source": [
    "![title](SymIsland.png)"
   ]
  },
  {
   "cell_type": "code",
   "execution_count": 7,
   "id": "7882561e",
   "metadata": {},
   "outputs": [],
   "source": [
    "states = states_Sym()\n",
    "P = make_P_Sym()\n",
    "pop_distr = pop_distr_Sym()"
   ]
  },
  {
   "cell_type": "code",
   "execution_count": 8,
   "id": "598a5358",
   "metadata": {},
   "outputs": [],
   "source": [
    "m = 0.001\n",
    "N = 1000\n",
    "\n",
    "M = m*P\n",
    "pop_size = np.array(N*pop_distr)\n",
    "coalescence = 1/pop_size\n",
    "\n",
    "smin = 1e-8\n",
    "smax = 1e-6\n",
    "srange = np.arange(smin,smax,(smax-smin)/10)\n",
    "srange = np.append(srange,np.arange(smax,1e-2,(1e-2-smax)/20))"
   ]
  },
  {
   "cell_type": "code",
   "execution_count": 9,
   "id": "e065198c",
   "metadata": {},
   "outputs": [
    {
     "name": "stdout",
     "output_type": "stream",
     "text": [
      "30/30\n",
      "Generate Coefficient matrix A:\n"
     ]
    },
    {
     "name": "stderr",
     "output_type": "stream",
     "text": [
      "100%|████████████████████████████████████████████████████████████████████████████████████████████| 5/5 [00:00<?, ?it/s]"
     ]
    },
    {
     "name": "stdout",
     "output_type": "stream",
     "text": [
      "Solve Ax=b\n"
     ]
    },
    {
     "name": "stderr",
     "output_type": "stream",
     "text": [
      "\n"
     ]
    }
   ],
   "source": [
    "MSPRIME_data = make_ctime_msprime(states,0.5*M,0.5*pop_size,iterations=500,rep=np.inf,save_as_file=False)\n",
    "LINEQ_data = make_ctime_lineq(0.5*M,coalescence,srange)"
   ]
  },
  {
   "cell_type": "markdown",
   "id": "672b80bb",
   "metadata": {},
   "source": [
    "Plot"
   ]
  },
  {
   "cell_type": "code",
   "execution_count": 11,
   "id": "eafe09b5",
   "metadata": {},
   "outputs": [
    {
     "data": {
      "image/png": "[encoded data removed]",
      "text/plain": [
       "<Figure size 640x480 with 1 Axes>"
      ]
     },
     "metadata": {},
     "output_type": "display_data"
    }
   ],
   "source": [
    "for i in range(1,len(states)**2):\n",
    "    plt.plot(LINEQ_data[:,0],LINEQ_data[:,i])\n",
    "\n",
    "for i in range(1,len(MSPRIME_data)):\n",
    "    plt.plot(srange,emp_laplace(srange,MSPRIME_data[i][1]),'bo')"
   ]
  },
  {
   "cell_type": "code",
   "execution_count": 12,
   "id": "1fe3894e",
   "metadata": {
    "scrolled": false
   },
   "outputs": [
    {
     "data": {
      "text/plain": [
       "<matplotlib.legend.Legend at 0x1df96aca090>"
      ]
     },
     "execution_count": 12,
     "metadata": {},
     "output_type": "execute_result"
    },
    {
     "data": {
      "image/png": "[encoded data removed]",
      "text/plain": [
       "<Figure size 640x480 with 1 Axes>"
      ]
     },
     "metadata": {},
     "output_type": "display_data"
    }
   ],
   "source": [
    "plt.hist(np.array(E_Var_lineq(LINEQ_data))[:,1],label='linear equation',alpha=0.5)\n",
    "plt.hist(np.array(E_Var_msprime(MSPRIME_data))[:,1],label='empirical',alpha=0.5)\n",
    "plt.legend()"
   ]
  },
  {
   "cell_type": "markdown",
   "id": "fc0a9e46",
   "metadata": {},
   "source": [
    "### 3.2) Continental Island"
   ]
  },
  {
   "cell_type": "markdown",
   "id": "67341994",
   "metadata": {},
   "source": [
    "![title](Continental_Island.png)"
   ]
  },
  {
   "cell_type": "code",
   "execution_count": 13,
   "id": "6e6d55dd",
   "metadata": {},
   "outputs": [],
   "source": [
    "states = states_Cont()\n",
    "P = make_P_Cont(states)\n",
    "pop_distr = pop_distr_Cont()"
   ]
  },
  {
   "cell_type": "code",
   "execution_count": 14,
   "id": "dc5ffce8",
   "metadata": {},
   "outputs": [],
   "source": [
    "m = 0.001\n",
    "N = 1000\n",
    "\n",
    "M = m*P\n",
    "pop_size = np.array(N*pop_distr)\n",
    "coalescence = 1/pop_size\n",
    "\n",
    "smin = 1e-8\n",
    "smax = 1e-6\n",
    "srange = np.arange(smin,smax,(smax-smin)/10)\n",
    "srange = np.append(srange,np.arange(smax,1e-2,(1e-2-smax)/20))"
   ]
  },
  {
   "cell_type": "code",
   "execution_count": 15,
   "id": "71bf89b7",
   "metadata": {},
   "outputs": [
    {
     "name": "stdout",
     "output_type": "stream",
     "text": [
      "30/30\n",
      "Generate Coefficient matrix A:\n"
     ]
    },
    {
     "name": "stderr",
     "output_type": "stream",
     "text": [
      "100%|█████████████████████████████████████████████████████████████████████████████████| 25/25 [00:00<00:00, 644.29it/s]\n"
     ]
    },
    {
     "name": "stdout",
     "output_type": "stream",
     "text": [
      "Solve Ax=b\n"
     ]
    }
   ],
   "source": [
    "MSPRIME_data = make_ctime_msprime(states,0.5*M,0.5*pop_size,iterations=500,rep=np.inf,save_as_file=False)\n",
    "LINEQ_data = make_ctime_lineq(0.5*M,coalescence,srange)"
   ]
  },
  {
   "cell_type": "markdown",
   "id": "ca9f10d8",
   "metadata": {},
   "source": [
    "Plot"
   ]
  },
  {
   "cell_type": "code",
   "execution_count": 16,
   "id": "225b5d00",
   "metadata": {},
   "outputs": [
    {
     "data": {
      "image/png": "[encoded data removed]",
      "text/plain": [
       "<Figure size 640x480 with 1 Axes>"
      ]
     },
     "metadata": {},
     "output_type": "display_data"
    }
   ],
   "source": [
    "for i in range(1,len(states)**2):\n",
    "    plt.plot(LINEQ_data[:,0],LINEQ_data[:,i])\n",
    "\n",
    "for i in range(1,len(MSPRIME_data)):\n",
    "    plt.plot(srange,emp_laplace(srange,MSPRIME_data[i][1]),'bo')"
   ]
  },
  {
   "cell_type": "code",
   "execution_count": 17,
   "id": "d29c2e94",
   "metadata": {},
   "outputs": [
    {
     "data": {
      "text/plain": [
       "<matplotlib.legend.Legend at 0x1df9ac72090>"
      ]
     },
     "execution_count": 17,
     "metadata": {},
     "output_type": "execute_result"
    },
    {
     "data": {
      "image/png": "[encoded data removed]",
      "text/plain": [
       "<Figure size 640x480 with 1 Axes>"
      ]
     },
     "metadata": {},
     "output_type": "display_data"
    }
   ],
   "source": [
    "plt.hist(np.array(E_Var_lineq(LINEQ_data))[:,1],label='linear equation',alpha=0.5)\n",
    "plt.hist(np.array(E_Var_msprime(MSPRIME_data))[:,1],label='empirical',alpha=0.5)\n",
    "plt.legend()"
   ]
  },
  {
   "cell_type": "markdown",
   "id": "468996b9",
   "metadata": {},
   "source": [
    "# 4) Unequal Recombination"
   ]
  },
  {
   "cell_type": "markdown",
   "id": "29a909e4",
   "metadata": {},
   "source": [
    "![title](Unequal_Recombination.png)"
   ]
  },
  {
   "cell_type": "code",
   "execution_count": 18,
   "id": "ede6672f",
   "metadata": {},
   "outputs": [
    {
     "name": "stderr",
     "output_type": "stream",
     "text": [
      "100%|██████████████████████████████████████████████████████████████████████████████████| 21/21 [00:00<00:00, 78.67it/s]\n"
     ]
    }
   ],
   "source": [
    "E = 5\n",
    "m = 0.01\n",
    "N = 1000\n",
    "n_max = n_max_UE(E)\n",
    "\n",
    "states = states_UE(E)\n",
    "pop_distr = pop_distr_UE(E,states)\n",
    "P = make_P_UE(E)\n",
    "\n",
    "grid = np.arange(1,n_max,(n_max-1)/5).astype(int)\n",
    "sample_state = []\n",
    "for i in range(len(grid)):\n",
    "    for j in range(len(grid)):\n",
    "        sample_state += [states.index(str(grid[i])+'|'+str(grid[j]))]\n",
    "\n",
    "M = m*P\n",
    "pop_size = N*np.array(pop_distr)"
   ]
  },
  {
   "cell_type": "code",
   "execution_count": 19,
   "id": "e8c15743",
   "metadata": {
    "scrolled": true
   },
   "outputs": [
    {
     "name": "stdout",
     "output_type": "stream",
     "text": [
      "CTime_msprime.csv\n"
     ]
    },
    {
     "name": "stderr",
     "output_type": "stream",
     "text": [
      "100%|██████████████████████████████████████████████████████████████████████████████████| 25/25 [03:27<00:00,  8.31s/it]\n"
     ]
    }
   ],
   "source": [
    "MSPRIME_data = make_ctime_msprime(states,0.5*M,0.5*pop_size,iterations=100,rep=np.inf,sample_state=sample_state,save_as_file=False)"
   ]
  },
  {
   "cell_type": "markdown",
   "id": "fa47e507",
   "metadata": {},
   "source": [
    "Plot"
   ]
  },
  {
   "cell_type": "code",
   "execution_count": 20,
   "id": "79eb875f",
   "metadata": {
    "scrolled": false
   },
   "outputs": [
    {
     "data": {
      "text/plain": [
       "(array([ 17.,   2.,   2.,   1.,   3.,   7.,  92., 280., 181.,  40.]),\n",
       " array([9.20000000e-06, 1.87917899e+00, 3.75834878e+00, 5.63751857e+00,\n",
       "        7.51668836e+00, 9.39585815e+00, 1.12750279e+01, 1.31541977e+01,\n",
       "        1.50333675e+01, 1.69125373e+01, 1.87917071e+01]),\n",
       " <BarContainer object of 10 artists>)"
      ]
     },
     "execution_count": 20,
     "metadata": {},
     "output_type": "execute_result"
    },
    {
     "data": {
      "image/png": "[encoded data removed]",
      "text/plain": [
       "<Figure size 640x480 with 1 Axes>"
      ]
     },
     "metadata": {},
     "output_type": "display_data"
    }
   ],
   "source": [
    "plt.hist(np.array(E_Var_msprime(MSPRIME_data))[:,1]/N)"
   ]
  },
  {
   "cell_type": "markdown",
   "id": "93ca057b",
   "metadata": {},
   "source": [
    "# 5) Site frequency spectrum"
   ]
  },
  {
   "cell_type": "markdown",
   "id": "1c4d4de9",
   "metadata": {},
   "source": [
    "![title](SFS_schema.png)"
   ]
  },
  {
   "cell_type": "code",
   "execution_count": 21,
   "id": "0156e7fb",
   "metadata": {},
   "outputs": [
    {
     "name": "stderr",
     "output_type": "stream",
     "text": [
      "100%|█████████████████████████████████████████████████████████████████████████████████| 14/14 [00:00<00:00, 178.27it/s]\n"
     ]
    }
   ],
   "source": [
    "E = 3\n",
    "m = 0.01\n",
    "N = 80000\n",
    "theta = 5\n",
    "n_max = n_max_UE(E)\n",
    "\n",
    "states = states_UE(E)\n",
    "pop_distr = pop_distr_UE(E,states)\n",
    "P = make_P_UE(E)\n",
    "\n",
    "M = (0.5*m)/N*P\n",
    "pop_size = N*np.array(pop_distr)"
   ]
  },
  {
   "cell_type": "code",
   "execution_count": 22,
   "id": "58258703",
   "metadata": {},
   "outputs": [],
   "source": [
    "n = len(states)\n",
    "alpha=np.zeros(n)\n",
    "scenario = 1\n",
    "\n",
    "if (scenario == 1):\n",
    "    alpha[states.index('1|3')] += 5\n",
    "    alpha[states.index('2|2')] += 5\n",
    "    alpha[states.index('3|1')] += 5\n",
    "if (scenario == 2):\n",
    "    alpha[states.index('1|1')] += 1\n",
    "    alpha[states.index('1|2')] += 1\n",
    "    alpha[states.index('2|1')] += 1\n",
    "    alpha[states.index('1|3')] += 1\n",
    "    alpha[states.index('2|2')] += 1\n",
    "    alpha[states.index('3|1')] += 1\n",
    "    alpha[states.index('1|4')] += 1\n",
    "    alpha[states.index('2|3')] += 1\n",
    "    alpha[states.index('3|2')] += 1\n",
    "    alpha[states.index('4|1')] += 1\n",
    "    alpha[states.index('1|5')] += 1\n",
    "    alpha[states.index('2|4')] += 1\n",
    "    alpha[states.index('3|3')] += 1\n",
    "    alpha[states.index('4|2')] += 1\n",
    "    alpha[states.index('5|1')] += 1"
   ]
  },
  {
   "cell_type": "code",
   "execution_count": 23,
   "id": "5e3bc446",
   "metadata": {},
   "outputs": [],
   "source": [
    "pop_configs = []\n",
    "for k in range(n):\n",
    "    pop_configs.append(msprime.PopulationConfiguration(initial_size=pop_size[k],sample_size=int(alpha[k])))"
   ]
  },
  {
   "cell_type": "code",
   "execution_count": 24,
   "id": "ebb2562b",
   "metadata": {
    "scrolled": true
   },
   "outputs": [
    {
     "name": "stderr",
     "output_type": "stream",
     "text": [
      "100%|████████████████████████████████████████████████████████████████████████████████| 100/100 [00:15<00:00,  6.35it/s]\n"
     ]
    }
   ],
   "source": [
    "SFS = make_SFS(N,M,m,alpha,pop_configs,theta=theta,iterations=100,save_as_file=False)"
   ]
  },
  {
   "cell_type": "markdown",
   "id": "6b46d4bf",
   "metadata": {},
   "source": [
    "Plot"
   ]
  },
  {
   "cell_type": "code",
   "execution_count": 25,
   "id": "797d0d0b",
   "metadata": {},
   "outputs": [
    {
     "data": {
      "text/plain": [
       "Text(0.5, 1.0, \"['theta,rN', array([5.  , 0.01])]\")"
      ]
     },
     "execution_count": 25,
     "metadata": {},
     "output_type": "execute_result"
    },
    {
     "data": {
      "image/png": "[encoded data removed]",
      "text/plain": [
       "<Figure size 640x480 with 1 Axes>"
      ]
     },
     "metadata": {},
     "output_type": "display_data"
    }
   ],
   "source": [
    "plt.stairs(SFS[1][3:],SFS[0][2:]+0.5)\n",
    "plt.title([\"theta,rN\"]+[SFS[1][0:2]])"
   ]
  }
 ],
 "metadata": {
  "kernelspec": {
   "display_name": "Python [conda env:msprime-test]",
   "language": "python",
   "name": "conda-env-msprime-test-py"
  },
  "language_info": {
   "codemirror_mode": {
    "name": "ipython",
    "version": 3
   },
   "file_extension": ".py",
   "mimetype": "text/x-python",
   "name": "python",
   "nbconvert_exporter": "python",
   "pygments_lexer": "ipython3",
   "version": "3.11.3"
  }
 },
 "nbformat": 4,
 "nbformat_minor": 5
}
