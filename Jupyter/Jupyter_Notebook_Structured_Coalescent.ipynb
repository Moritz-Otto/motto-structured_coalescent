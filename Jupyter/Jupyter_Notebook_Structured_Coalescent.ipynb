{
 "cells": [
  {
   "cell_type": "markdown",
   "id": "41ec7265",
   "metadata": {},
   "source": [
    "# Structured Coalescent"
   ]
  },
  {
   "cell_type": "markdown",
   "id": "6ad67eb9",
   "metadata": {},
   "source": [
    "# 0) Import"
   ]
  },
  {
   "cell_type": "code",
   "execution_count": 1,
   "id": "f640e89b",
   "metadata": {},
   "outputs": [],
   "source": [
    "from Structured_Coalescent_Otto import *"
   ]
  },
  {
   "cell_type": "markdown",
   "id": "32b2dc2e",
   "metadata": {},
   "source": [
    "___"
   ]
  },
  {
   "cell_type": "markdown",
   "id": "8702eafc",
   "metadata": {},
   "source": [
    "# 1) Stationary distribution"
   ]
  },
  {
   "cell_type": "markdown",
   "id": "243f9c33",
   "metadata": {},
   "source": [
    "Make the stationary distribution, according to\n",
    "\n",
    "$$\\pi P=P $$\n",
    "\n",
    "where $P$ is the transition matrix of the unequal recombination process"
   ]
  },
  {
   "cell_type": "code",
   "execution_count": 2,
   "id": "04e06107",
   "metadata": {
    "scrolled": false
   },
   "outputs": [
    {
     "name": "stderr",
     "output_type": "stream",
     "text": [
      "100%|██████████| 70/70 [00:08<00:00,  8.49it/s]\n"
     ]
    }
   ],
   "source": [
    "E = 20\n",
    "Stat_distr = make_stat_distr(E)"
   ]
  },
  {
   "cell_type": "markdown",
   "id": "d86258c8",
   "metadata": {},
   "source": [
    "Plot"
   ]
  },
  {
   "cell_type": "code",
   "execution_count": 3,
   "id": "90a02947",
   "metadata": {
    "scrolled": false
   },
   "outputs": [
    {
     "data": {
      "application/javascript": [
       "/* Put everything inside the global mpl namespace */\n",
       "/* global mpl */\n",
       "window.mpl = {};\n",
       "\n",
       "mpl.get_websocket_type = function () {\n",
       "    if (typeof WebSocket !== 'undefined') {\n",
       "        return WebSocket;\n",
       "    } else if (typeof MozWebSocket !== 'undefined') {\n",
       "        return MozWebSocket;\n",
       "    } else {\n",
       "        alert(\n",
       "            'Your browser does not have WebSocket support. ' +\n",
       "                'Please try Chrome, Safari or Firefox ≥ 6. ' +\n",
       "                'Firefox 4 and 5 are also supported but you ' +\n",
       "                'have to enable WebSockets in about:config.'\n",
       "        );\n",
       "    }\n",
       "};\n",
       "\n",
       "mpl.figure = function (figure_id, websocket, ondownload, parent_element) {\n",
       "    this.id = figure_id;\n",
       "\n",
       "    this.ws = websocket;\n",
       "\n",
       "    this.supports_binary = this.ws.binaryType !== undefined;\n",
       "\n",
       "    if (!this.supports_binary) {\n",
       "        var warnings = document.getElementById('mpl-warnings');\n",
       "        if (warnings) {\n",
       "            warnings.style.display = 'block';\n",
       "            warnings.textContent =\n",
       "                'This browser does not support binary websocket messages. ' +\n",
       "                'Performance may be slow.';\n",
       "        }\n",
       "    }\n",
       "\n",
       "    this.imageObj = new Image();\n",
       "\n",
       "    this.context = undefined;\n",
       "    this.message = undefined;\n",
       "    this.canvas = undefined;\n",
       "    this.rubberband_canvas = undefined;\n",
       "    this.rubberband_context = undefined;\n",
       "    this.format_dropdown = undefined;\n",
       "\n",
       "    this.image_mode = 'full';\n",
       "\n",
       "    this.root = document.createElement('div');\n",
       "    this.root.setAttribute('style', 'display: inline-block');\n",
       "    this._root_extra_style(this.root);\n",
       "\n",
       "    parent_element.appendChild(this.root);\n",
       "\n",
       "    this._init_header(this);\n",
       "    this._init_canvas(this);\n",
       "    this._init_toolbar(this);\n",
       "\n",
       "    var fig = this;\n",
       "\n",
       "    this.waiting = false;\n",
       "\n",
       "    this.ws.onopen = function () {\n",
       "        fig.send_message('supports_binary', { value: fig.supports_binary });\n",
       "        fig.send_message('send_image_mode', {});\n",
       "        if (fig.ratio !== 1) {\n",
       "            fig.send_message('set_device_pixel_ratio', {\n",
       "                device_pixel_ratio: fig.ratio,\n",
       "            });\n",
       "        }\n",
       "        fig.send_message('refresh', {});\n",
       "    };\n",
       "\n",
       "    this.imageObj.onload = function () {\n",
       "        if (fig.image_mode === 'full') {\n",
       "            // Full images could contain transparency (where diff images\n",
       "            // almost always do), so we need to clear the canvas so that\n",
       "            // there is no ghosting.\n",
       "            fig.context.clearRect(0, 0, fig.canvas.width, fig.canvas.height);\n",
       "        }\n",
       "        fig.context.drawImage(fig.imageObj, 0, 0);\n",
       "    };\n",
       "\n",
       "    this.imageObj.onunload = function () {\n",
       "        fig.ws.close();\n",
       "    };\n",
       "\n",
       "    this.ws.onmessage = this._make_on_message_function(this);\n",
       "\n",
       "    this.ondownload = ondownload;\n",
       "};\n",
       "\n",
       "mpl.figure.prototype._init_header = function () {\n",
       "    var titlebar = document.createElement('div');\n",
       "    titlebar.classList =\n",
       "        'ui-dialog-titlebar ui-widget-header ui-corner-all ui-helper-clearfix';\n",
       "    var titletext = document.createElement('div');\n",
       "    titletext.classList = 'ui-dialog-title';\n",
       "    titletext.setAttribute(\n",
       "        'style',\n",
       "        'width: 100%; text-align: center; padding: 3px;'\n",
       "    );\n",
       "    titlebar.appendChild(titletext);\n",
       "    this.root.appendChild(titlebar);\n",
       "    this.header = titletext;\n",
       "};\n",
       "\n",
       "mpl.figure.prototype._canvas_extra_style = function (_canvas_div) {};\n",
       "\n",
       "mpl.figure.prototype._root_extra_style = function (_canvas_div) {};\n",
       "\n",
       "mpl.figure.prototype._init_canvas = function () {\n",
       "    var fig = this;\n",
       "\n",
       "    var canvas_div = (this.canvas_div = document.createElement('div'));\n",
       "    canvas_div.setAttribute(\n",
       "        'style',\n",
       "        'border: 1px solid #ddd;' +\n",
       "            'box-sizing: content-box;' +\n",
       "            'clear: both;' +\n",
       "            'min-height: 1px;' +\n",
       "            'min-width: 1px;' +\n",
       "            'outline: 0;' +\n",
       "            'overflow: hidden;' +\n",
       "            'position: relative;' +\n",
       "            'resize: both;'\n",
       "    );\n",
       "\n",
       "    function on_keyboard_event_closure(name) {\n",
       "        return function (event) {\n",
       "            return fig.key_event(event, name);\n",
       "        };\n",
       "    }\n",
       "\n",
       "    canvas_div.addEventListener(\n",
       "        'keydown',\n",
       "        on_keyboard_event_closure('key_press')\n",
       "    );\n",
       "    canvas_div.addEventListener(\n",
       "        'keyup',\n",
       "        on_keyboard_event_closure('key_release')\n",
       "    );\n",
       "\n",
       "    this._canvas_extra_style(canvas_div);\n",
       "    this.root.appendChild(canvas_div);\n",
       "\n",
       "    var canvas = (this.canvas = document.createElement('canvas'));\n",
       "    canvas.classList.add('mpl-canvas');\n",
       "    canvas.setAttribute('style', 'box-sizing: content-box;');\n",
       "\n",
       "    this.context = canvas.getContext('2d');\n",
       "\n",
       "    var backingStore =\n",
       "        this.context.backingStorePixelRatio ||\n",
       "        this.context.webkitBackingStorePixelRatio ||\n",
       "        this.context.mozBackingStorePixelRatio ||\n",
       "        this.context.msBackingStorePixelRatio ||\n",
       "        this.context.oBackingStorePixelRatio ||\n",
       "        this.context.backingStorePixelRatio ||\n",
       "        1;\n",
       "\n",
       "    this.ratio = (window.devicePixelRatio || 1) / backingStore;\n",
       "\n",
       "    var rubberband_canvas = (this.rubberband_canvas = document.createElement(\n",
       "        'canvas'\n",
       "    ));\n",
       "    rubberband_canvas.setAttribute(\n",
       "        'style',\n",
       "        'box-sizing: content-box; position: absolute; left: 0; top: 0; z-index: 1;'\n",
       "    );\n",
       "\n",
       "    // Apply a ponyfill if ResizeObserver is not implemented by browser.\n",
       "    if (this.ResizeObserver === undefined) {\n",
       "        if (window.ResizeObserver !== undefined) {\n",
       "            this.ResizeObserver = window.ResizeObserver;\n",
       "        } else {\n",
       "            var obs = _JSXTOOLS_RESIZE_OBSERVER({});\n",
       "            this.ResizeObserver = obs.ResizeObserver;\n",
       "        }\n",
       "    }\n",
       "\n",
       "    this.resizeObserverInstance = new this.ResizeObserver(function (entries) {\n",
       "        var nentries = entries.length;\n",
       "        for (var i = 0; i < nentries; i++) {\n",
       "            var entry = entries[i];\n",
       "            var width, height;\n",
       "            if (entry.contentBoxSize) {\n",
       "                if (entry.contentBoxSize instanceof Array) {\n",
       "                    // Chrome 84 implements new version of spec.\n",
       "                    width = entry.contentBoxSize[0].inlineSize;\n",
       "                    height = entry.contentBoxSize[0].blockSize;\n",
       "                } else {\n",
       "                    // Firefox implements old version of spec.\n",
       "                    width = entry.contentBoxSize.inlineSize;\n",
       "                    height = entry.contentBoxSize.blockSize;\n",
       "                }\n",
       "            } else {\n",
       "                // Chrome <84 implements even older version of spec.\n",
       "                width = entry.contentRect.width;\n",
       "                height = entry.contentRect.height;\n",
       "            }\n",
       "\n",
       "            // Keep the size of the canvas and rubber band canvas in sync with\n",
       "            // the canvas container.\n",
       "            if (entry.devicePixelContentBoxSize) {\n",
       "                // Chrome 84 implements new version of spec.\n",
       "                canvas.setAttribute(\n",
       "                    'width',\n",
       "                    entry.devicePixelContentBoxSize[0].inlineSize\n",
       "                );\n",
       "                canvas.setAttribute(\n",
       "                    'height',\n",
       "                    entry.devicePixelContentBoxSize[0].blockSize\n",
       "                );\n",
       "            } else {\n",
       "                canvas.setAttribute('width', width * fig.ratio);\n",
       "                canvas.setAttribute('height', height * fig.ratio);\n",
       "            }\n",
       "            canvas.setAttribute(\n",
       "                'style',\n",
       "                'width: ' + width + 'px; height: ' + height + 'px;'\n",
       "            );\n",
       "\n",
       "            rubberband_canvas.setAttribute('width', width);\n",
       "            rubberband_canvas.setAttribute('height', height);\n",
       "\n",
       "            // And update the size in Python. We ignore the initial 0/0 size\n",
       "            // that occurs as the element is placed into the DOM, which should\n",
       "            // otherwise not happen due to the minimum size styling.\n",
       "            if (fig.ws.readyState == 1 && width != 0 && height != 0) {\n",
       "                fig.request_resize(width, height);\n",
       "            }\n",
       "        }\n",
       "    });\n",
       "    this.resizeObserverInstance.observe(canvas_div);\n",
       "\n",
       "    function on_mouse_event_closure(name) {\n",
       "        return function (event) {\n",
       "            return fig.mouse_event(event, name);\n",
       "        };\n",
       "    }\n",
       "\n",
       "    rubberband_canvas.addEventListener(\n",
       "        'mousedown',\n",
       "        on_mouse_event_closure('button_press')\n",
       "    );\n",
       "    rubberband_canvas.addEventListener(\n",
       "        'mouseup',\n",
       "        on_mouse_event_closure('button_release')\n",
       "    );\n",
       "    rubberband_canvas.addEventListener(\n",
       "        'dblclick',\n",
       "        on_mouse_event_closure('dblclick')\n",
       "    );\n",
       "    // Throttle sequential mouse events to 1 every 20ms.\n",
       "    rubberband_canvas.addEventListener(\n",
       "        'mousemove',\n",
       "        on_mouse_event_closure('motion_notify')\n",
       "    );\n",
       "\n",
       "    rubberband_canvas.addEventListener(\n",
       "        'mouseenter',\n",
       "        on_mouse_event_closure('figure_enter')\n",
       "    );\n",
       "    rubberband_canvas.addEventListener(\n",
       "        'mouseleave',\n",
       "        on_mouse_event_closure('figure_leave')\n",
       "    );\n",
       "\n",
       "    canvas_div.addEventListener('wheel', function (event) {\n",
       "        if (event.deltaY < 0) {\n",
       "            event.step = 1;\n",
       "        } else {\n",
       "            event.step = -1;\n",
       "        }\n",
       "        on_mouse_event_closure('scroll')(event);\n",
       "    });\n",
       "\n",
       "    canvas_div.appendChild(canvas);\n",
       "    canvas_div.appendChild(rubberband_canvas);\n",
       "\n",
       "    this.rubberband_context = rubberband_canvas.getContext('2d');\n",
       "    this.rubberband_context.strokeStyle = '#000000';\n",
       "\n",
       "    this._resize_canvas = function (width, height, forward) {\n",
       "        if (forward) {\n",
       "            canvas_div.style.width = width + 'px';\n",
       "            canvas_div.style.height = height + 'px';\n",
       "        }\n",
       "    };\n",
       "\n",
       "    // Disable right mouse context menu.\n",
       "    this.rubberband_canvas.addEventListener('contextmenu', function (_e) {\n",
       "        event.preventDefault();\n",
       "        return false;\n",
       "    });\n",
       "\n",
       "    function set_focus() {\n",
       "        canvas.focus();\n",
       "        canvas_div.focus();\n",
       "    }\n",
       "\n",
       "    window.setTimeout(set_focus, 100);\n",
       "};\n",
       "\n",
       "mpl.figure.prototype._init_toolbar = function () {\n",
       "    var fig = this;\n",
       "\n",
       "    var toolbar = document.createElement('div');\n",
       "    toolbar.classList = 'mpl-toolbar';\n",
       "    this.root.appendChild(toolbar);\n",
       "\n",
       "    function on_click_closure(name) {\n",
       "        return function (_event) {\n",
       "            return fig.toolbar_button_onclick(name);\n",
       "        };\n",
       "    }\n",
       "\n",
       "    function on_mouseover_closure(tooltip) {\n",
       "        return function (event) {\n",
       "            if (!event.currentTarget.disabled) {\n",
       "                return fig.toolbar_button_onmouseover(tooltip);\n",
       "            }\n",
       "        };\n",
       "    }\n",
       "\n",
       "    fig.buttons = {};\n",
       "    var buttonGroup = document.createElement('div');\n",
       "    buttonGroup.classList = 'mpl-button-group';\n",
       "    for (var toolbar_ind in mpl.toolbar_items) {\n",
       "        var name = mpl.toolbar_items[toolbar_ind][0];\n",
       "        var tooltip = mpl.toolbar_items[toolbar_ind][1];\n",
       "        var image = mpl.toolbar_items[toolbar_ind][2];\n",
       "        var method_name = mpl.toolbar_items[toolbar_ind][3];\n",
       "\n",
       "        if (!name) {\n",
       "            /* Instead of a spacer, we start a new button group. */\n",
       "            if (buttonGroup.hasChildNodes()) {\n",
       "                toolbar.appendChild(buttonGroup);\n",
       "            }\n",
       "            buttonGroup = document.createElement('div');\n",
       "            buttonGroup.classList = 'mpl-button-group';\n",
       "            continue;\n",
       "        }\n",
       "\n",
       "        var button = (fig.buttons[name] = document.createElement('button'));\n",
       "        button.classList = 'mpl-widget';\n",
       "        button.setAttribute('role', 'button');\n",
       "        button.setAttribute('aria-disabled', 'false');\n",
       "        button.addEventListener('click', on_click_closure(method_name));\n",
       "        button.addEventListener('mouseover', on_mouseover_closure(tooltip));\n",
       "\n",
       "        var icon_img = document.createElement('img');\n",
       "        icon_img.src = '_images/' + image + '.png';\n",
       "        icon_img.srcset = '_images/' + image + '_large.png 2x';\n",
       "        icon_img.alt = tooltip;\n",
       "        button.appendChild(icon_img);\n",
       "\n",
       "        buttonGroup.appendChild(button);\n",
       "    }\n",
       "\n",
       "    if (buttonGroup.hasChildNodes()) {\n",
       "        toolbar.appendChild(buttonGroup);\n",
       "    }\n",
       "\n",
       "    var fmt_picker = document.createElement('select');\n",
       "    fmt_picker.classList = 'mpl-widget';\n",
       "    toolbar.appendChild(fmt_picker);\n",
       "    this.format_dropdown = fmt_picker;\n",
       "\n",
       "    for (var ind in mpl.extensions) {\n",
       "        var fmt = mpl.extensions[ind];\n",
       "        var option = document.createElement('option');\n",
       "        option.selected = fmt === mpl.default_extension;\n",
       "        option.innerHTML = fmt;\n",
       "        fmt_picker.appendChild(option);\n",
       "    }\n",
       "\n",
       "    var status_bar = document.createElement('span');\n",
       "    status_bar.classList = 'mpl-message';\n",
       "    toolbar.appendChild(status_bar);\n",
       "    this.message = status_bar;\n",
       "};\n",
       "\n",
       "mpl.figure.prototype.request_resize = function (x_pixels, y_pixels) {\n",
       "    // Request matplotlib to resize the figure. Matplotlib will then trigger a resize in the client,\n",
       "    // which will in turn request a refresh of the image.\n",
       "    this.send_message('resize', { width: x_pixels, height: y_pixels });\n",
       "};\n",
       "\n",
       "mpl.figure.prototype.send_message = function (type, properties) {\n",
       "    properties['type'] = type;\n",
       "    properties['figure_id'] = this.id;\n",
       "    this.ws.send(JSON.stringify(properties));\n",
       "};\n",
       "\n",
       "mpl.figure.prototype.send_draw_message = function () {\n",
       "    if (!this.waiting) {\n",
       "        this.waiting = true;\n",
       "        this.ws.send(JSON.stringify({ type: 'draw', figure_id: this.id }));\n",
       "    }\n",
       "};\n",
       "\n",
       "mpl.figure.prototype.handle_save = function (fig, _msg) {\n",
       "    var format_dropdown = fig.format_dropdown;\n",
       "    var format = format_dropdown.options[format_dropdown.selectedIndex].value;\n",
       "    fig.ondownload(fig, format);\n",
       "};\n",
       "\n",
       "mpl.figure.prototype.handle_resize = function (fig, msg) {\n",
       "    var size = msg['size'];\n",
       "    if (size[0] !== fig.canvas.width || size[1] !== fig.canvas.height) {\n",
       "        fig._resize_canvas(size[0], size[1], msg['forward']);\n",
       "        fig.send_message('refresh', {});\n",
       "    }\n",
       "};\n",
       "\n",
       "mpl.figure.prototype.handle_rubberband = function (fig, msg) {\n",
       "    var x0 = msg['x0'] / fig.ratio;\n",
       "    var y0 = (fig.canvas.height - msg['y0']) / fig.ratio;\n",
       "    var x1 = msg['x1'] / fig.ratio;\n",
       "    var y1 = (fig.canvas.height - msg['y1']) / fig.ratio;\n",
       "    x0 = Math.floor(x0) + 0.5;\n",
       "    y0 = Math.floor(y0) + 0.5;\n",
       "    x1 = Math.floor(x1) + 0.5;\n",
       "    y1 = Math.floor(y1) + 0.5;\n",
       "    var min_x = Math.min(x0, x1);\n",
       "    var min_y = Math.min(y0, y1);\n",
       "    var width = Math.abs(x1 - x0);\n",
       "    var height = Math.abs(y1 - y0);\n",
       "\n",
       "    fig.rubberband_context.clearRect(\n",
       "        0,\n",
       "        0,\n",
       "        fig.canvas.width / fig.ratio,\n",
       "        fig.canvas.height / fig.ratio\n",
       "    );\n",
       "\n",
       "    fig.rubberband_context.strokeRect(min_x, min_y, width, height);\n",
       "};\n",
       "\n",
       "mpl.figure.prototype.handle_figure_label = function (fig, msg) {\n",
       "    // Updates the figure title.\n",
       "    fig.header.textContent = msg['label'];\n",
       "};\n",
       "\n",
       "mpl.figure.prototype.handle_cursor = function (fig, msg) {\n",
       "    fig.rubberband_canvas.style.cursor = msg['cursor'];\n",
       "};\n",
       "\n",
       "mpl.figure.prototype.handle_message = function (fig, msg) {\n",
       "    fig.message.textContent = msg['message'];\n",
       "};\n",
       "\n",
       "mpl.figure.prototype.handle_draw = function (fig, _msg) {\n",
       "    // Request the server to send over a new figure.\n",
       "    fig.send_draw_message();\n",
       "};\n",
       "\n",
       "mpl.figure.prototype.handle_image_mode = function (fig, msg) {\n",
       "    fig.image_mode = msg['mode'];\n",
       "};\n",
       "\n",
       "mpl.figure.prototype.handle_history_buttons = function (fig, msg) {\n",
       "    for (var key in msg) {\n",
       "        if (!(key in fig.buttons)) {\n",
       "            continue;\n",
       "        }\n",
       "        fig.buttons[key].disabled = !msg[key];\n",
       "        fig.buttons[key].setAttribute('aria-disabled', !msg[key]);\n",
       "    }\n",
       "};\n",
       "\n",
       "mpl.figure.prototype.handle_navigate_mode = function (fig, msg) {\n",
       "    if (msg['mode'] === 'PAN') {\n",
       "        fig.buttons['Pan'].classList.add('active');\n",
       "        fig.buttons['Zoom'].classList.remove('active');\n",
       "    } else if (msg['mode'] === 'ZOOM') {\n",
       "        fig.buttons['Pan'].classList.remove('active');\n",
       "        fig.buttons['Zoom'].classList.add('active');\n",
       "    } else {\n",
       "        fig.buttons['Pan'].classList.remove('active');\n",
       "        fig.buttons['Zoom'].classList.remove('active');\n",
       "    }\n",
       "};\n",
       "\n",
       "mpl.figure.prototype.updated_canvas_event = function () {\n",
       "    // Called whenever the canvas gets updated.\n",
       "    this.send_message('ack', {});\n",
       "};\n",
       "\n",
       "// A function to construct a web socket function for onmessage handling.\n",
       "// Called in the figure constructor.\n",
       "mpl.figure.prototype._make_on_message_function = function (fig) {\n",
       "    return function socket_on_message(evt) {\n",
       "        if (evt.data instanceof Blob) {\n",
       "            var img = evt.data;\n",
       "            if (img.type !== 'image/png') {\n",
       "                /* FIXME: We get \"Resource interpreted as Image but\n",
       "                 * transferred with MIME type text/plain:\" errors on\n",
       "                 * Chrome.  But how to set the MIME type?  It doesn't seem\n",
       "                 * to be part of the websocket stream */\n",
       "                img.type = 'image/png';\n",
       "            }\n",
       "\n",
       "            /* Free the memory for the previous frames */\n",
       "            if (fig.imageObj.src) {\n",
       "                (window.URL || window.webkitURL).revokeObjectURL(\n",
       "                    fig.imageObj.src\n",
       "                );\n",
       "            }\n",
       "\n",
       "            fig.imageObj.src = (window.URL || window.webkitURL).createObjectURL(\n",
       "                img\n",
       "            );\n",
       "            fig.updated_canvas_event();\n",
       "            fig.waiting = false;\n",
       "            return;\n",
       "        } else if (\n",
       "            typeof evt.data === 'string' &&\n",
       "            evt.data.slice(0, 21) === 'data:image/png;base64'\n",
       "        ) {\n",
       "            fig.imageObj.src = evt.data;\n",
       "            fig.updated_canvas_event();\n",
       "            fig.waiting = false;\n",
       "            return;\n",
       "        }\n",
       "\n",
       "        var msg = JSON.parse(evt.data);\n",
       "        var msg_type = msg['type'];\n",
       "\n",
       "        // Call the  \"handle_{type}\" callback, which takes\n",
       "        // the figure and JSON message as its only arguments.\n",
       "        try {\n",
       "            var callback = fig['handle_' + msg_type];\n",
       "        } catch (e) {\n",
       "            console.log(\n",
       "                \"No handler for the '\" + msg_type + \"' message type: \",\n",
       "                msg\n",
       "            );\n",
       "            return;\n",
       "        }\n",
       "\n",
       "        if (callback) {\n",
       "            try {\n",
       "                // console.log(\"Handling '\" + msg_type + \"' message: \", msg);\n",
       "                callback(fig, msg);\n",
       "            } catch (e) {\n",
       "                console.log(\n",
       "                    \"Exception inside the 'handler_\" + msg_type + \"' callback:\",\n",
       "                    e,\n",
       "                    e.stack,\n",
       "                    msg\n",
       "                );\n",
       "            }\n",
       "        }\n",
       "    };\n",
       "};\n",
       "\n",
       "// from https://stackoverflow.com/questions/1114465/getting-mouse-location-in-canvas\n",
       "mpl.findpos = function (e) {\n",
       "    //this section is from http://www.quirksmode.org/js/events_properties.html\n",
       "    var targ;\n",
       "    if (!e) {\n",
       "        e = window.event;\n",
       "    }\n",
       "    if (e.target) {\n",
       "        targ = e.target;\n",
       "    } else if (e.srcElement) {\n",
       "        targ = e.srcElement;\n",
       "    }\n",
       "    if (targ.nodeType === 3) {\n",
       "        // defeat Safari bug\n",
       "        targ = targ.parentNode;\n",
       "    }\n",
       "\n",
       "    // pageX,Y are the mouse positions relative to the document\n",
       "    var boundingRect = targ.getBoundingClientRect();\n",
       "    var x = e.pageX - (boundingRect.left + document.body.scrollLeft);\n",
       "    var y = e.pageY - (boundingRect.top + document.body.scrollTop);\n",
       "\n",
       "    return { x: x, y: y };\n",
       "};\n",
       "\n",
       "/*\n",
       " * return a copy of an object with only non-object keys\n",
       " * we need this to avoid circular references\n",
       " * https://stackoverflow.com/a/24161582/3208463\n",
       " */\n",
       "function simpleKeys(original) {\n",
       "    return Object.keys(original).reduce(function (obj, key) {\n",
       "        if (typeof original[key] !== 'object') {\n",
       "            obj[key] = original[key];\n",
       "        }\n",
       "        return obj;\n",
       "    }, {});\n",
       "}\n",
       "\n",
       "mpl.figure.prototype.mouse_event = function (event, name) {\n",
       "    var canvas_pos = mpl.findpos(event);\n",
       "\n",
       "    if (name === 'button_press') {\n",
       "        this.canvas.focus();\n",
       "        this.canvas_div.focus();\n",
       "    }\n",
       "\n",
       "    var x = canvas_pos.x * this.ratio;\n",
       "    var y = canvas_pos.y * this.ratio;\n",
       "\n",
       "    this.send_message(name, {\n",
       "        x: x,\n",
       "        y: y,\n",
       "        button: event.button,\n",
       "        step: event.step,\n",
       "        guiEvent: simpleKeys(event),\n",
       "    });\n",
       "\n",
       "    /* This prevents the web browser from automatically changing to\n",
       "     * the text insertion cursor when the button is pressed.  We want\n",
       "     * to control all of the cursor setting manually through the\n",
       "     * 'cursor' event from matplotlib */\n",
       "    event.preventDefault();\n",
       "    return false;\n",
       "};\n",
       "\n",
       "mpl.figure.prototype._key_event_extra = function (_event, _name) {\n",
       "    // Handle any extra behaviour associated with a key event\n",
       "};\n",
       "\n",
       "mpl.figure.prototype.key_event = function (event, name) {\n",
       "    // Prevent repeat events\n",
       "    if (name === 'key_press') {\n",
       "        if (event.key === this._key) {\n",
       "            return;\n",
       "        } else {\n",
       "            this._key = event.key;\n",
       "        }\n",
       "    }\n",
       "    if (name === 'key_release') {\n",
       "        this._key = null;\n",
       "    }\n",
       "\n",
       "    var value = '';\n",
       "    if (event.ctrlKey && event.key !== 'Control') {\n",
       "        value += 'ctrl+';\n",
       "    }\n",
       "    else if (event.altKey && event.key !== 'Alt') {\n",
       "        value += 'alt+';\n",
       "    }\n",
       "    else if (event.shiftKey && event.key !== 'Shift') {\n",
       "        value += 'shift+';\n",
       "    }\n",
       "\n",
       "    value += 'k' + event.key;\n",
       "\n",
       "    this._key_event_extra(event, name);\n",
       "\n",
       "    this.send_message(name, { key: value, guiEvent: simpleKeys(event) });\n",
       "    return false;\n",
       "};\n",
       "\n",
       "mpl.figure.prototype.toolbar_button_onclick = function (name) {\n",
       "    if (name === 'download') {\n",
       "        this.handle_save(this, null);\n",
       "    } else {\n",
       "        this.send_message('toolbar_button', { name: name });\n",
       "    }\n",
       "};\n",
       "\n",
       "mpl.figure.prototype.toolbar_button_onmouseover = function (tooltip) {\n",
       "    this.message.textContent = tooltip;\n",
       "};\n",
       "\n",
       "///////////////// REMAINING CONTENT GENERATED BY embed_js.py /////////////////\n",
       "// prettier-ignore\n",
       "var _JSXTOOLS_RESIZE_OBSERVER=function(A){var t,i=new WeakMap,n=new WeakMap,a=new WeakMap,r=new WeakMap,o=new Set;function s(e){if(!(this instanceof s))throw new TypeError(\"Constructor requires 'new' operator\");i.set(this,e)}function h(){throw new TypeError(\"Function is not a constructor\")}function c(e,t,i,n){e=0 in arguments?Number(arguments[0]):0,t=1 in arguments?Number(arguments[1]):0,i=2 in arguments?Number(arguments[2]):0,n=3 in arguments?Number(arguments[3]):0,this.right=(this.x=this.left=e)+(this.width=i),this.bottom=(this.y=this.top=t)+(this.height=n),Object.freeze(this)}function d(){t=requestAnimationFrame(d);var s=new WeakMap,p=new Set;o.forEach((function(t){r.get(t).forEach((function(i){var r=t instanceof window.SVGElement,o=a.get(t),d=r?0:parseFloat(o.paddingTop),f=r?0:parseFloat(o.paddingRight),l=r?0:parseFloat(o.paddingBottom),u=r?0:parseFloat(o.paddingLeft),g=r?0:parseFloat(o.borderTopWidth),m=r?0:parseFloat(o.borderRightWidth),w=r?0:parseFloat(o.borderBottomWidth),b=u+f,F=d+l,v=(r?0:parseFloat(o.borderLeftWidth))+m,W=g+w,y=r?0:t.offsetHeight-W-t.clientHeight,E=r?0:t.offsetWidth-v-t.clientWidth,R=b+v,z=F+W,M=r?t.width:parseFloat(o.width)-R-E,O=r?t.height:parseFloat(o.height)-z-y;if(n.has(t)){var k=n.get(t);if(k[0]===M&&k[1]===O)return}n.set(t,[M,O]);var S=Object.create(h.prototype);S.target=t,S.contentRect=new c(u,d,M,O),s.has(i)||(s.set(i,[]),p.add(i)),s.get(i).push(S)}))})),p.forEach((function(e){i.get(e).call(e,s.get(e),e)}))}return s.prototype.observe=function(i){if(i instanceof window.Element){r.has(i)||(r.set(i,new Set),o.add(i),a.set(i,window.getComputedStyle(i)));var n=r.get(i);n.has(this)||n.add(this),cancelAnimationFrame(t),t=requestAnimationFrame(d)}},s.prototype.unobserve=function(i){if(i instanceof window.Element&&r.has(i)){var n=r.get(i);n.has(this)&&(n.delete(this),n.size||(r.delete(i),o.delete(i))),n.size||r.delete(i),o.size||cancelAnimationFrame(t)}},A.DOMRectReadOnly=c,A.ResizeObserver=s,A.ResizeObserverEntry=h,A}; // eslint-disable-line\n",
       "mpl.toolbar_items = [[\"Home\", \"Reset original view\", \"fa fa-home icon-home\", \"home\"], [\"Back\", \"Back to previous view\", \"fa fa-arrow-left icon-arrow-left\", \"back\"], [\"Forward\", \"Forward to next view\", \"fa fa-arrow-right icon-arrow-right\", \"forward\"], [\"\", \"\", \"\", \"\"], [\"Pan\", \"Left button pans, Right button zooms\\nx/y fixes axis, CTRL fixes aspect\", \"fa fa-arrows icon-move\", \"pan\"], [\"Zoom\", \"Zoom to rectangle\\nx/y fixes axis\", \"fa fa-square-o icon-check-empty\", \"zoom\"], [\"\", \"\", \"\", \"\"], [\"Download\", \"Download plot\", \"fa fa-floppy-o icon-save\", \"download\"]];\n",
       "\n",
       "mpl.extensions = [\"eps\", \"jpeg\", \"pgf\", \"pdf\", \"png\", \"ps\", \"raw\", \"svg\", \"tif\"];\n",
       "\n",
       "mpl.default_extension = \"png\";/* global mpl */\n",
       "\n",
       "var comm_websocket_adapter = function (comm) {\n",
       "    // Create a \"websocket\"-like object which calls the given IPython comm\n",
       "    // object with the appropriate methods. Currently this is a non binary\n",
       "    // socket, so there is still some room for performance tuning.\n",
       "    var ws = {};\n",
       "\n",
       "    ws.binaryType = comm.kernel.ws.binaryType;\n",
       "    ws.readyState = comm.kernel.ws.readyState;\n",
       "    function updateReadyState(_event) {\n",
       "        if (comm.kernel.ws) {\n",
       "            ws.readyState = comm.kernel.ws.readyState;\n",
       "        } else {\n",
       "            ws.readyState = 3; // Closed state.\n",
       "        }\n",
       "    }\n",
       "    comm.kernel.ws.addEventListener('open', updateReadyState);\n",
       "    comm.kernel.ws.addEventListener('close', updateReadyState);\n",
       "    comm.kernel.ws.addEventListener('error', updateReadyState);\n",
       "\n",
       "    ws.close = function () {\n",
       "        comm.close();\n",
       "    };\n",
       "    ws.send = function (m) {\n",
       "        //console.log('sending', m);\n",
       "        comm.send(m);\n",
       "    };\n",
       "    // Register the callback with on_msg.\n",
       "    comm.on_msg(function (msg) {\n",
       "        //console.log('receiving', msg['content']['data'], msg);\n",
       "        var data = msg['content']['data'];\n",
       "        if (data['blob'] !== undefined) {\n",
       "            data = {\n",
       "                data: new Blob(msg['buffers'], { type: data['blob'] }),\n",
       "            };\n",
       "        }\n",
       "        // Pass the mpl event to the overridden (by mpl) onmessage function.\n",
       "        ws.onmessage(data);\n",
       "    });\n",
       "    return ws;\n",
       "};\n",
       "\n",
       "mpl.mpl_figure_comm = function (comm, msg) {\n",
       "    // This is the function which gets called when the mpl process\n",
       "    // starts-up an IPython Comm through the \"matplotlib\" channel.\n",
       "\n",
       "    var id = msg.content.data.id;\n",
       "    // Get hold of the div created by the display call when the Comm\n",
       "    // socket was opened in Python.\n",
       "    var element = document.getElementById(id);\n",
       "    var ws_proxy = comm_websocket_adapter(comm);\n",
       "\n",
       "    function ondownload(figure, _format) {\n",
       "        window.open(figure.canvas.toDataURL());\n",
       "    }\n",
       "\n",
       "    var fig = new mpl.figure(id, ws_proxy, ondownload, element);\n",
       "\n",
       "    // Call onopen now - mpl needs it, as it is assuming we've passed it a real\n",
       "    // web socket which is closed, not our websocket->open comm proxy.\n",
       "    ws_proxy.onopen();\n",
       "\n",
       "    fig.parent_element = element;\n",
       "    fig.cell_info = mpl.find_output_cell(\"<div id='\" + id + \"'></div>\");\n",
       "    if (!fig.cell_info) {\n",
       "        console.error('Failed to find cell for figure', id, fig);\n",
       "        return;\n",
       "    }\n",
       "    fig.cell_info[0].output_area.element.on(\n",
       "        'cleared',\n",
       "        { fig: fig },\n",
       "        fig._remove_fig_handler\n",
       "    );\n",
       "};\n",
       "\n",
       "mpl.figure.prototype.handle_close = function (fig, msg) {\n",
       "    var width = fig.canvas.width / fig.ratio;\n",
       "    fig.cell_info[0].output_area.element.off(\n",
       "        'cleared',\n",
       "        fig._remove_fig_handler\n",
       "    );\n",
       "    fig.resizeObserverInstance.unobserve(fig.canvas_div);\n",
       "\n",
       "    // Update the output cell to use the data from the current canvas.\n",
       "    fig.push_to_output();\n",
       "    var dataURL = fig.canvas.toDataURL();\n",
       "    // Re-enable the keyboard manager in IPython - without this line, in FF,\n",
       "    // the notebook keyboard shortcuts fail.\n",
       "    IPython.keyboard_manager.enable();\n",
       "    fig.parent_element.innerHTML =\n",
       "        '<img src=\"' + dataURL + '\" width=\"' + width + '\">';\n",
       "    fig.close_ws(fig, msg);\n",
       "};\n",
       "\n",
       "mpl.figure.prototype.close_ws = function (fig, msg) {\n",
       "    fig.send_message('closing', msg);\n",
       "    // fig.ws.close()\n",
       "};\n",
       "\n",
       "mpl.figure.prototype.push_to_output = function (_remove_interactive) {\n",
       "    // Turn the data on the canvas into data in the output cell.\n",
       "    var width = this.canvas.width / this.ratio;\n",
       "    var dataURL = this.canvas.toDataURL();\n",
       "    this.cell_info[1]['text/html'] =\n",
       "        '<img src=\"' + dataURL + '\" width=\"' + width + '\">';\n",
       "};\n",
       "\n",
       "mpl.figure.prototype.updated_canvas_event = function () {\n",
       "    // Tell IPython that the notebook contents must change.\n",
       "    IPython.notebook.set_dirty(true);\n",
       "    this.send_message('ack', {});\n",
       "    var fig = this;\n",
       "    // Wait a second, then push the new image to the DOM so\n",
       "    // that it is saved nicely (might be nice to debounce this).\n",
       "    setTimeout(function () {\n",
       "        fig.push_to_output();\n",
       "    }, 1000);\n",
       "};\n",
       "\n",
       "mpl.figure.prototype._init_toolbar = function () {\n",
       "    var fig = this;\n",
       "\n",
       "    var toolbar = document.createElement('div');\n",
       "    toolbar.classList = 'btn-toolbar';\n",
       "    this.root.appendChild(toolbar);\n",
       "\n",
       "    function on_click_closure(name) {\n",
       "        return function (_event) {\n",
       "            return fig.toolbar_button_onclick(name);\n",
       "        };\n",
       "    }\n",
       "\n",
       "    function on_mouseover_closure(tooltip) {\n",
       "        return function (event) {\n",
       "            if (!event.currentTarget.disabled) {\n",
       "                return fig.toolbar_button_onmouseover(tooltip);\n",
       "            }\n",
       "        };\n",
       "    }\n",
       "\n",
       "    fig.buttons = {};\n",
       "    var buttonGroup = document.createElement('div');\n",
       "    buttonGroup.classList = 'btn-group';\n",
       "    var button;\n",
       "    for (var toolbar_ind in mpl.toolbar_items) {\n",
       "        var name = mpl.toolbar_items[toolbar_ind][0];\n",
       "        var tooltip = mpl.toolbar_items[toolbar_ind][1];\n",
       "        var image = mpl.toolbar_items[toolbar_ind][2];\n",
       "        var method_name = mpl.toolbar_items[toolbar_ind][3];\n",
       "\n",
       "        if (!name) {\n",
       "            /* Instead of a spacer, we start a new button group. */\n",
       "            if (buttonGroup.hasChildNodes()) {\n",
       "                toolbar.appendChild(buttonGroup);\n",
       "            }\n",
       "            buttonGroup = document.createElement('div');\n",
       "            buttonGroup.classList = 'btn-group';\n",
       "            continue;\n",
       "        }\n",
       "\n",
       "        button = fig.buttons[name] = document.createElement('button');\n",
       "        button.classList = 'btn btn-default';\n",
       "        button.href = '#';\n",
       "        button.title = name;\n",
       "        button.innerHTML = '<i class=\"fa ' + image + ' fa-lg\"></i>';\n",
       "        button.addEventListener('click', on_click_closure(method_name));\n",
       "        button.addEventListener('mouseover', on_mouseover_closure(tooltip));\n",
       "        buttonGroup.appendChild(button);\n",
       "    }\n",
       "\n",
       "    if (buttonGroup.hasChildNodes()) {\n",
       "        toolbar.appendChild(buttonGroup);\n",
       "    }\n",
       "\n",
       "    // Add the status bar.\n",
       "    var status_bar = document.createElement('span');\n",
       "    status_bar.classList = 'mpl-message pull-right';\n",
       "    toolbar.appendChild(status_bar);\n",
       "    this.message = status_bar;\n",
       "\n",
       "    // Add the close button to the window.\n",
       "    var buttongrp = document.createElement('div');\n",
       "    buttongrp.classList = 'btn-group inline pull-right';\n",
       "    button = document.createElement('button');\n",
       "    button.classList = 'btn btn-mini btn-primary';\n",
       "    button.href = '#';\n",
       "    button.title = 'Stop Interaction';\n",
       "    button.innerHTML = '<i class=\"fa fa-power-off icon-remove icon-large\"></i>';\n",
       "    button.addEventListener('click', function (_evt) {\n",
       "        fig.handle_close(fig, {});\n",
       "    });\n",
       "    button.addEventListener(\n",
       "        'mouseover',\n",
       "        on_mouseover_closure('Stop Interaction')\n",
       "    );\n",
       "    buttongrp.appendChild(button);\n",
       "    var titlebar = this.root.querySelector('.ui-dialog-titlebar');\n",
       "    titlebar.insertBefore(buttongrp, titlebar.firstChild);\n",
       "};\n",
       "\n",
       "mpl.figure.prototype._remove_fig_handler = function (event) {\n",
       "    var fig = event.data.fig;\n",
       "    if (event.target !== this) {\n",
       "        // Ignore bubbled events from children.\n",
       "        return;\n",
       "    }\n",
       "    fig.close_ws(fig, {});\n",
       "};\n",
       "\n",
       "mpl.figure.prototype._root_extra_style = function (el) {\n",
       "    el.style.boxSizing = 'content-box'; // override notebook setting of border-box.\n",
       "};\n",
       "\n",
       "mpl.figure.prototype._canvas_extra_style = function (el) {\n",
       "    // this is important to make the div 'focusable\n",
       "    el.setAttribute('tabindex', 0);\n",
       "    // reach out to IPython and tell the keyboard manager to turn it's self\n",
       "    // off when our div gets focus\n",
       "\n",
       "    // location in version 3\n",
       "    if (IPython.notebook.keyboard_manager) {\n",
       "        IPython.notebook.keyboard_manager.register_events(el);\n",
       "    } else {\n",
       "        // location in version 2\n",
       "        IPython.keyboard_manager.register_events(el);\n",
       "    }\n",
       "};\n",
       "\n",
       "mpl.figure.prototype._key_event_extra = function (event, _name) {\n",
       "    // Check for shift+enter\n",
       "    if (event.shiftKey && event.which === 13) {\n",
       "        this.canvas_div.blur();\n",
       "        // select the cell after this one\n",
       "        var index = IPython.notebook.find_cell_index(this.cell_info[0]);\n",
       "        IPython.notebook.select(index + 1);\n",
       "    }\n",
       "};\n",
       "\n",
       "mpl.figure.prototype.handle_save = function (fig, _msg) {\n",
       "    fig.ondownload(fig, null);\n",
       "};\n",
       "\n",
       "mpl.find_output_cell = function (html_output) {\n",
       "    // Return the cell and output element which can be found *uniquely* in the notebook.\n",
       "    // Note - this is a bit hacky, but it is done because the \"notebook_saving.Notebook\"\n",
       "    // IPython event is triggered only after the cells have been serialised, which for\n",
       "    // our purposes (turning an active figure into a static one), is too late.\n",
       "    var cells = IPython.notebook.get_cells();\n",
       "    var ncells = cells.length;\n",
       "    for (var i = 0; i < ncells; i++) {\n",
       "        var cell = cells[i];\n",
       "        if (cell.cell_type === 'code') {\n",
       "            for (var j = 0; j < cell.output_area.outputs.length; j++) {\n",
       "                var data = cell.output_area.outputs[j];\n",
       "                if (data.data) {\n",
       "                    // IPython >= 3 moved mimebundle to data attribute of output\n",
       "                    data = data.data;\n",
       "                }\n",
       "                if (data['text/html'] === html_output) {\n",
       "                    return [cell, data, j];\n",
       "                }\n",
       "            }\n",
       "        }\n",
       "    }\n",
       "};\n",
       "\n",
       "// Register the function which deals with the matplotlib target/channel.\n",
       "// The kernel may be null if the page has been refreshed.\n",
       "if (IPython.notebook.kernel !== null) {\n",
       "    IPython.notebook.kernel.comm_manager.register_target(\n",
       "        'matplotlib',\n",
       "        mpl.mpl_figure_comm\n",
       "    );\n",
       "}\n"
      ],
      "text/plain": [
       "<IPython.core.display.Javascript object>"
      ]
     },
     "metadata": {},
     "output_type": "display_data"
    },
    {
     "data": {
      "text/html": [
       "<img src=\"data:image/png;base64,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\" width=\"753\">"
      ],
      "text/plain": [
       "<IPython.core.display.HTML object>"
      ]
     },
     "metadata": {},
     "output_type": "display_data"
    },
    {
     "name": "stderr",
     "output_type": "stream",
     "text": [
      "<ipython-input-3-2ab1a1c01373>:5: MatplotlibDeprecationWarning: Calling gca() with keyword arguments was deprecated in Matplotlib 3.4. Starting two minor releases later, gca() will take no keyword arguments. The gca() function should only be used to get the current axes, or if no axes exist, create new axes with default keyword arguments. To create a new axes with non-default arguments, use plt.axes() or plt.subplot().\n",
      "  ax = fig.gca(projection='3d')\n"
     ]
    }
   ],
   "source": [
    "%matplotlib notebook\n",
    "\n",
    "n_max = n_max_UE(E)\n",
    "fig = plt.figure()\n",
    "ax = fig.gca(projection='3d')\n",
    "X = range(1,n_max)\n",
    "Y = range(1,n_max)\n",
    "X, Y = np.meshgrid(X, Y)\n",
    "\n",
    "Z = Stat_distr[coef(X,Y,n_max)]\n",
    "\n",
    "\n",
    "\n",
    "surf = ax.plot_surface(X, Y, Z, cmap=cm.coolwarm, linewidth=0, antialiased=False)\n",
    "fig.colorbar(surf, shrink=0.5, aspect=5)\n",
    "\n",
    "plt.show()"
   ]
  },
  {
   "cell_type": "markdown",
   "id": "c447c0e1",
   "metadata": {},
   "source": [
    "# 2) Mixing Time"
   ]
  },
  {
   "cell_type": "markdown",
   "id": "575bd1da",
   "metadata": {},
   "source": [
    "The distance function $d$ is defined via the total variation $\\| \\cdot \\|_{TV}$, i.e.\n",
    "\n",
    "$$ d(t) = \\max\\limits_x \\|P^t_x - \\pi \\|_{TV} $$\n",
    "\n",
    "The mixing time $t_{mix}$ is defined as the time, at which $d(t)$ is less than $\\frac{1}{4}$, i.e.\n",
    "\n",
    "$$ t_{mix} = \\min \\{t: d(t) < \\frac{1}{4} \\} $$"
   ]
  },
  {
   "cell_type": "code",
   "execution_count": 4,
   "id": "76917260",
   "metadata": {},
   "outputs": [
    {
     "name": "stdout",
     "output_type": "stream",
     "text": [
      "Calculating P^12 for E=15\n"
     ]
    }
   ],
   "source": [
    "E_vec = [5,10,15]\n",
    "\n",
    "t_mix = [Mixing_time(E) for E in E_vec]"
   ]
  },
  {
   "cell_type": "code",
   "execution_count": 5,
   "id": "07cc9692",
   "metadata": {},
   "outputs": [
    {
     "name": "stdout",
     "output_type": "stream",
     "text": [
      "Regression function: t_mix(E) = [0.7] E + 2.666666666666665\n"
     ]
    },
    {
     "data": {
      "image/png": "[encoded data removed]",
      "text/plain": [
       "<Figure size 432x288 with 1 Axes>"
      ]
     },
     "metadata": {
      "needs_background": "light"
     },
     "output_type": "display_data"
    }
   ],
   "source": [
    "%matplotlib inline\n",
    "plt.scatter(E_vec,t_mix)\n",
    "\n",
    "regression_model = LinearRegression().fit(np.array(E_vec).reshape((-1, 1)), np.array(t_mix))\n",
    "\n",
    "x = np.linspace(0,35,100).reshape((-1,1))\n",
    "y = regression_model.predict(x)\n",
    "\n",
    "plt.plot(x,y)\n",
    "\n",
    "print(f'Regression function: t_mix(E) = {regression_model.coef_} E + {regression_model.intercept_}')"
   ]
  },
  {
   "cell_type": "markdown",
   "id": "c1d459c9",
   "metadata": {},
   "source": [
    "# 3) Verfication"
   ]
  },
  {
   "cell_type": "markdown",
   "id": "466822f3",
   "metadata": {},
   "source": [
    "### 3.1) Symmetric Island"
   ]
  },
  {
   "cell_type": "markdown",
   "id": "c595549b",
   "metadata": {},
   "source": [
    "![title](SymIsland.png)"
   ]
  },
  {
   "cell_type": "code",
   "execution_count": 6,
   "id": "7882561e",
   "metadata": {},
   "outputs": [],
   "source": [
    "states = states_Sym()\n",
    "P = make_P_Sym()\n",
    "pop_distr = pop_distr_Sym()"
   ]
  },
  {
   "cell_type": "code",
   "execution_count": 7,
   "id": "598a5358",
   "metadata": {},
   "outputs": [],
   "source": [
    "m = 0.001\n",
    "N = 1000\n",
    "\n",
    "M = m*P\n",
    "pop_size = np.array(N*pop_distr)\n",
    "coalescence = 1/pop_size\n",
    "\n",
    "smin = 1e-8\n",
    "smax = 1e-6\n",
    "srange = np.arange(smin,smax,(smax-smin)/10)\n",
    "srange = np.append(srange,np.arange(smax,1e-2,(1e-2-smax)/20))"
   ]
  },
  {
   "cell_type": "code",
   "execution_count": 8,
   "id": "e065198c",
   "metadata": {},
   "outputs": [
    {
     "name": "stdout",
     "output_type": "stream",
     "text": [
      "30/30\n",
      "Generate Coefficient matrix A:\n"
     ]
    },
    {
     "name": "stderr",
     "output_type": "stream",
     "text": [
      "100%|██████████| 5/5 [00:00<00:00, 5620.88it/s]"
     ]
    },
    {
     "name": "stdout",
     "output_type": "stream",
     "text": [
      "Solve Ax=b\n"
     ]
    },
    {
     "name": "stderr",
     "output_type": "stream",
     "text": [
      "\n"
     ]
    }
   ],
   "source": [
    "MSPRIME_data = make_ctime_msprime(states,0.5*M,0.5*pop_size,iterations=500,rep=np.inf,save_as_file=False)\n",
    "LINEQ_data = make_ctime_lineq(0.5*M,coalescence,srange)"
   ]
  },
  {
   "cell_type": "markdown",
   "id": "672b80bb",
   "metadata": {},
   "source": [
    "Plot"
   ]
  },
  {
   "cell_type": "code",
   "execution_count": 9,
   "id": "eafe09b5",
   "metadata": {},
   "outputs": [
    {
     "data": {
      "image/png": "[encoded data removed]",
      "text/plain": [
       "<Figure size 432x288 with 1 Axes>"
      ]
     },
     "metadata": {
      "needs_background": "light"
     },
     "output_type": "display_data"
    }
   ],
   "source": [
    "for i in range(1,len(states)**2):\n",
    "    plt.plot(LINEQ_data[:,0],LINEQ_data[:,i])\n",
    "\n",
    "for i in range(1,len(MSPRIME_data)):\n",
    "    plt.plot(srange,emp_laplace(srange,MSPRIME_data[i][1]),'bo')"
   ]
  },
  {
   "cell_type": "code",
   "execution_count": 10,
   "id": "1fe3894e",
   "metadata": {
    "scrolled": false
   },
   "outputs": [
    {
     "data": {
      "text/plain": [
       "<matplotlib.legend.Legend at 0x7f27b7b6a4f0>"
      ]
     },
     "execution_count": 10,
     "metadata": {},
     "output_type": "execute_result"
    },
    {
     "data": {
      "image/png": "[encoded data removed]",
      "text/plain": [
       "<Figure size 432x288 with 1 Axes>"
      ]
     },
     "metadata": {
      "needs_background": "light"
     },
     "output_type": "display_data"
    }
   ],
   "source": [
    "plt.hist(np.array(E_Var_lineq(LINEQ_data))[:,1],label='linear equation',alpha=0.5)\n",
    "plt.hist(np.array(E_Var_msprime(MSPRIME_data))[:,1],label='empirical',alpha=0.5)\n",
    "plt.legend()"
   ]
  },
  {
   "cell_type": "markdown",
   "id": "fc0a9e46",
   "metadata": {},
   "source": [
    "### 3.2) Continental Island"
   ]
  },
  {
   "cell_type": "markdown",
   "id": "67341994",
   "metadata": {},
   "source": [
    "![title](Continental_Island.png)"
   ]
  },
  {
   "cell_type": "code",
   "execution_count": 11,
   "id": "6e6d55dd",
   "metadata": {},
   "outputs": [],
   "source": [
    "states = states_Cont()\n",
    "P = make_P_Cont(states)\n",
    "pop_distr = pop_distr_Cont()"
   ]
  },
  {
   "cell_type": "code",
   "execution_count": 12,
   "id": "dc5ffce8",
   "metadata": {},
   "outputs": [],
   "source": [
    "m = 0.001\n",
    "N = 1000\n",
    "\n",
    "M = m*P\n",
    "pop_size = np.array(N*pop_distr)\n",
    "coalescence = 1/pop_size\n",
    "\n",
    "smin = 1e-8\n",
    "smax = 1e-6\n",
    "srange = np.arange(smin,smax,(smax-smin)/10)\n",
    "srange = np.append(srange,np.arange(smax,1e-2,(1e-2-smax)/20))"
   ]
  },
  {
   "cell_type": "code",
   "execution_count": 13,
   "id": "71bf89b7",
   "metadata": {},
   "outputs": [
    {
     "name": "stdout",
     "output_type": "stream",
     "text": [
      "30/30\n",
      "Generate Coefficient matrix A:\n"
     ]
    },
    {
     "name": "stderr",
     "output_type": "stream",
     "text": [
      "100%|██████████| 25/25 [00:00<00:00, 501.07it/s]\n"
     ]
    },
    {
     "name": "stdout",
     "output_type": "stream",
     "text": [
      "Solve Ax=b\n"
     ]
    }
   ],
   "source": [
    "MSPRIME_data = make_ctime_msprime(states,0.5*M,0.5*pop_size,iterations=500,rep=np.inf,save_as_file=False)\n",
    "LINEQ_data = make_ctime_lineq(0.5*M,coalescence,srange)"
   ]
  },
  {
   "cell_type": "markdown",
   "id": "ca9f10d8",
   "metadata": {},
   "source": [
    "Plot"
   ]
  },
  {
   "cell_type": "code",
   "execution_count": 14,
   "id": "225b5d00",
   "metadata": {},
   "outputs": [
    {
     "data": {
      "image/png": "[encoded data removed]",
      "text/plain": [
       "<Figure size 432x288 with 1 Axes>"
      ]
     },
     "metadata": {
      "needs_background": "light"
     },
     "output_type": "display_data"
    }
   ],
   "source": [
    "for i in range(1,len(states)**2):\n",
    "    plt.plot(LINEQ_data[:,0],LINEQ_data[:,i])\n",
    "\n",
    "for i in range(1,len(MSPRIME_data)):\n",
    "    plt.plot(srange,emp_laplace(srange,MSPRIME_data[i][1]),'bo')"
   ]
  },
  {
   "cell_type": "code",
   "execution_count": 15,
   "id": "d29c2e94",
   "metadata": {},
   "outputs": [
    {
     "data": {
      "text/plain": [
       "<matplotlib.legend.Legend at 0x7f27b6faae20>"
      ]
     },
     "execution_count": 15,
     "metadata": {},
     "output_type": "execute_result"
    },
    {
     "data": {
      "image/png": "[encoded data removed]",
      "text/plain": [
       "<Figure size 432x288 with 1 Axes>"
      ]
     },
     "metadata": {
      "needs_background": "light"
     },
     "output_type": "display_data"
    }
   ],
   "source": [
    "plt.hist(np.array(E_Var_lineq(LINEQ_data))[:,1],label='linear equation',alpha=0.5)\n",
    "plt.hist(np.array(E_Var_msprime(MSPRIME_data))[:,1],label='empirical',alpha=0.5)\n",
    "plt.legend()"
   ]
  },
  {
   "cell_type": "markdown",
   "id": "468996b9",
   "metadata": {},
   "source": [
    "# 4) Unequal Recombination"
   ]
  },
  {
   "cell_type": "markdown",
   "id": "29a909e4",
   "metadata": {},
   "source": [
    "![title](Unequal_Recombination.png)"
   ]
  },
  {
   "cell_type": "code",
   "execution_count": 16,
   "id": "ede6672f",
   "metadata": {},
   "outputs": [
    {
     "name": "stderr",
     "output_type": "stream",
     "text": [
      "100%|██████████| 21/21 [00:00<00:00, 101.44it/s]\n"
     ]
    }
   ],
   "source": [
    "E = 5\n",
    "m = 0.01\n",
    "N = 1000\n",
    "n_max = n_max_UE(E)\n",
    "\n",
    "states = states_UE(E)\n",
    "pop_distr = pop_distr_UE(E,states)\n",
    "P = make_P_UE(E)\n",
    "\n",
    "grid = np.arange(1,n_max,(n_max-1)/5).astype(int)\n",
    "sample_state = []\n",
    "for i in range(len(grid)):\n",
    "    for j in range(len(grid)):\n",
    "        sample_state += [states.index(str(grid[i])+'|'+str(grid[j]))]\n",
    "\n",
    "M = m*P\n",
    "pop_size = N*np.array(pop_distr)"
   ]
  },
  {
   "cell_type": "code",
   "execution_count": 17,
   "id": "e8c15743",
   "metadata": {
    "scrolled": true
   },
   "outputs": [
    {
     "name": "stdout",
     "output_type": "stream",
     "text": [
      "CTime_msprime.csv\n"
     ]
    },
    {
     "name": "stderr",
     "output_type": "stream",
     "text": [
      "100%|██████████| 25/25 [02:31<00:00,  6.07s/it]\n"
     ]
    }
   ],
   "source": [
    "MSPRIME_data = make_ctime_msprime(states,0.5*M,0.5*pop_size,iterations=100,rep=np.inf,sample_state=sample_state,save_as_file=False)"
   ]
  },
  {
   "cell_type": "markdown",
   "id": "fa47e507",
   "metadata": {},
   "source": [
    "Plot"
   ]
  },
  {
   "cell_type": "code",
   "execution_count": 18,
   "id": "79eb875f",
   "metadata": {
    "scrolled": false
   },
   "outputs": [
    {
     "data": {
      "text/plain": [
       "(array([ 17.,   2.,   3.,   3.,   0.,  18., 155., 275., 136.,  16.]),\n",
       " array([9.00000000e-06, 1.97330599e+00, 3.94660298e+00, 5.91989997e+00,\n",
       "        7.89319696e+00, 9.86649395e+00, 1.18397909e+01, 1.38130879e+01,\n",
       "        1.57863849e+01, 1.77596819e+01, 1.97329789e+01]),\n",
       " <BarContainer object of 10 artists>)"
      ]
     },
     "execution_count": 18,
     "metadata": {},
     "output_type": "execute_result"
    },
    {
     "data": {
      "image/png": "[encoded data removed]",
      "text/plain": [
       "<Figure size 432x288 with 1 Axes>"
      ]
     },
     "metadata": {
      "needs_background": "light"
     },
     "output_type": "display_data"
    }
   ],
   "source": [
    "plt.hist(np.array(E_Var_msprime(MSPRIME_data))[:,1]/N)"
   ]
  },
  {
   "cell_type": "markdown",
   "id": "93ca057b",
   "metadata": {},
   "source": [
    "# 5) Site frequency spectrum"
   ]
  },
  {
   "cell_type": "markdown",
   "id": "1c4d4de9",
   "metadata": {},
   "source": [
    "![title](SFS_schema.png)"
   ]
  },
  {
   "cell_type": "code",
   "execution_count": 19,
   "id": "0156e7fb",
   "metadata": {},
   "outputs": [
    {
     "name": "stderr",
     "output_type": "stream",
     "text": [
      "100%|██████████| 14/14 [00:00<00:00, 228.71it/s]\n"
     ]
    }
   ],
   "source": [
    "E = 3\n",
    "m = 0.01\n",
    "N = 80000\n",
    "theta = 5\n",
    "n_max = n_max_UE(E)\n",
    "\n",
    "states = states_UE(E)\n",
    "pop_distr = pop_distr_UE(E,states)\n",
    "P = make_P_UE(E)\n",
    "\n",
    "M = (0.5*m)/N*P\n",
    "pop_size = N*np.array(pop_distr)"
   ]
  },
  {
   "cell_type": "code",
   "execution_count": 20,
   "id": "58258703",
   "metadata": {},
   "outputs": [],
   "source": [
    "n = len(states)\n",
    "alpha=np.zeros(n)\n",
    "scenario = 1\n",
    "\n",
    "if (scenario == 1):\n",
    "    alpha[states.index('1|3')] += 5\n",
    "    alpha[states.index('2|2')] += 5\n",
    "    alpha[states.index('3|1')] += 5\n",
    "if (scenario == 2):\n",
    "    alpha[states.index('1|1')] += 1\n",
    "    alpha[states.index('1|2')] += 1\n",
    "    alpha[states.index('2|1')] += 1\n",
    "    alpha[states.index('1|3')] += 1\n",
    "    alpha[states.index('2|2')] += 1\n",
    "    alpha[states.index('3|1')] += 1\n",
    "    alpha[states.index('1|4')] += 1\n",
    "    alpha[states.index('2|3')] += 1\n",
    "    alpha[states.index('3|2')] += 1\n",
    "    alpha[states.index('4|1')] += 1\n",
    "    alpha[states.index('1|5')] += 1\n",
    "    alpha[states.index('2|4')] += 1\n",
    "    alpha[states.index('3|3')] += 1\n",
    "    alpha[states.index('4|2')] += 1\n",
    "    alpha[states.index('5|1')] += 1"
   ]
  },
  {
   "cell_type": "code",
   "execution_count": 21,
   "id": "5e3bc446",
   "metadata": {},
   "outputs": [],
   "source": [
    "pop_configs = []\n",
    "for k in range(n):\n",
    "    pop_configs.append(msprime.PopulationConfiguration(initial_size=pop_size[k],sample_size=int(alpha[k])))"
   ]
  },
  {
   "cell_type": "code",
   "execution_count": 22,
   "id": "ebb2562b",
   "metadata": {
    "scrolled": true
   },
   "outputs": [
    {
     "name": "stderr",
     "output_type": "stream",
     "text": [
      "100%|██████████| 100/100 [00:09<00:00, 10.23it/s]\n"
     ]
    }
   ],
   "source": [
    "SFS = make_SFS(N,M,m,alpha,pop_configs,theta=theta,iterations=100,save_as_file=False)"
   ]
  },
  {
   "cell_type": "markdown",
   "id": "6b46d4bf",
   "metadata": {},
   "source": [
    "Plot"
   ]
  },
  {
   "cell_type": "code",
   "execution_count": 23,
   "id": "797d0d0b",
   "metadata": {},
   "outputs": [
    {
     "data": {
      "text/plain": [
       "Text(0.5, 1.0, \"['theta,rN', array([5.  , 0.01])]\")"
      ]
     },
     "execution_count": 23,
     "metadata": {},
     "output_type": "execute_result"
    },
    {
     "data": {
      "image/png": "[encoded data removed]",
      "text/plain": [
       "<Figure size 432x288 with 1 Axes>"
      ]
     },
     "metadata": {
      "needs_background": "light"
     },
     "output_type": "display_data"
    }
   ],
   "source": [
    "plt.stairs(SFS[1][3:],SFS[0][2:]+0.5)\n",
    "plt.title([\"theta,rN\"]+[SFS[1][0:2]])"
   ]
  }
 ],
 "metadata": {
  "kernelspec": {
   "display_name": "Python 3",
   "language": "python",
   "name": "python3"
  },
  "language_info": {
   "codemirror_mode": {
    "name": "ipython",
    "version": 3
   },
   "file_extension": ".py",
   "mimetype": "text/x-python",
   "name": "python",
   "nbconvert_exporter": "python",
   "pygments_lexer": "ipython3",
   "version": "3.8.8"
  }
 },
 "nbformat": 4,
 "nbformat_minor": 5
}
