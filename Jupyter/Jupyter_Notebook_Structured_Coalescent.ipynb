{
 "cells": [
  {
   "cell_type": "markdown",
   "id": "41ec7265",
   "metadata": {},
   "source": [
    "# Structured Coalescent"
   ]
  },
  {
   "cell_type": "markdown",
   "id": "6ad67eb9",
   "metadata": {},
   "source": [
    "# 0) Import"
   ]
  },
  {
   "cell_type": "code",
   "execution_count": 1,
   "id": "f640e89b",
   "metadata": {},
   "outputs": [],
   "source": [
    "from Structured_Coalescent_Otto import *"
   ]
  },
  {
   "cell_type": "markdown",
   "id": "32b2dc2e",
   "metadata": {},
   "source": [
    "___"
   ]
  },
  {
   "cell_type": "markdown",
   "id": "8702eafc",
   "metadata": {},
   "source": [
    "# 1) Stationary distribution"
   ]
  },
  {
   "cell_type": "markdown",
   "id": "243f9c33",
   "metadata": {},
   "source": [
    "Make the stationary distribution, according to\n",
    "\n",
    "$$\\pi P=P $$\n",
    "\n",
    "where $P$ is the transition matrix of the unequal recombination process"
   ]
  },
  {
   "cell_type": "code",
   "execution_count": null,
   "id": "04e06107",
   "metadata": {
    "scrolled": false
   },
   "outputs": [],
   "source": [
    "E = 20\n",
    "Stat_distr = make_stat_distr(E)"
   ]
  },
  {
   "cell_type": "markdown",
   "id": "d86258c8",
   "metadata": {},
   "source": [
    "Plot"
   ]
  },
  {
   "cell_type": "code",
   "execution_count": null,
   "id": "90a02947",
   "metadata": {
    "scrolled": false
   },
   "outputs": [],
   "source": [
    "%matplotlib notebook\n",
    "\n",
    "n_max = n_max_UE(E)\n",
    "fig = plt.figure()\n",
    "ax = fig.gca(projection='3d')\n",
    "X = range(1,n_max)\n",
    "Y = range(1,n_max)\n",
    "X, Y = np.meshgrid(X, Y)\n",
    "\n",
    "Z = Stat_distr[coef(X,Y,n_max)]\n",
    "\n",
    "\n",
    "\n",
    "surf = ax.plot_surface(X, Y, Z, cmap=cm.coolwarm, linewidth=0, antialiased=False)\n",
    "fig.colorbar(surf, shrink=0.5, aspect=5)\n",
    "\n",
    "plt.show()"
   ]
  },
  {
   "cell_type": "markdown",
   "id": "c447c0e1",
   "metadata": {},
   "source": [
    "# 2) Mixing Time"
   ]
  },
  {
   "cell_type": "markdown",
   "id": "575bd1da",
   "metadata": {},
   "source": [
    "The distance function $d$ is defined via the total variation $\\| \\cdot \\|_{TV}$, i.e.\n",
    "\n",
    "$$ d(t) = \\max\\limits_x \\|P^t_x - \\pi \\|_{TV} $$\n",
    "\n",
    "The mixing time $t_{mix}$ is defined as the time, at which $d(t)$ is less than $\\frac{1}{4}$, i.e.\n",
    "\n",
    "$$ t_{mix} = \\min \\{t: d(t) < \\frac{1}{4} \\} $$"
   ]
  },
  {
   "cell_type": "code",
   "execution_count": 10,
   "id": "76917260",
   "metadata": {},
   "outputs": [
    {
     "name": "stdout",
     "output_type": "stream",
     "text": [
      "Calculating P^12 for E=15\n"
     ]
    }
   ],
   "source": [
    "E_vec = [5,10,15]\n",
    "\n",
    "t_mix = [Mixing_time(E) for E in E_vec]"
   ]
  },
  {
   "cell_type": "code",
   "execution_count": null,
   "id": "07cc9692",
   "metadata": {},
   "outputs": [],
   "source": [
    "%matplotlib inline\n",
    "plt.scatter(E_vec,t_mix)\n",
    "\n",
    "regression_model = LinearRegression().fit(np.array(E_vec).reshape((-1, 1)), np.array(t_mix))\n",
    "\n",
    "x = np.linspace(0,35,100).reshape((-1,1))\n",
    "y = regression_model.predict(x)\n",
    "\n",
    "plt.plot(x,y)\n",
    "\n",
    "print(f'Regression function: t_mix(E) = {regression_model.coef_} E + {regression_model.intercept_}')"
   ]
  },
  {
   "cell_type": "markdown",
   "id": "c1d459c9",
   "metadata": {},
   "source": [
    "# 3) Verfication"
   ]
  },
  {
   "cell_type": "markdown",
   "id": "466822f3",
   "metadata": {},
   "source": [
    "### 3.1) Symmetric Island"
   ]
  },
  {
   "cell_type": "markdown",
   "id": "c595549b",
   "metadata": {},
   "source": [
    "![title](SymIsland.png)"
   ]
  },
  {
   "cell_type": "code",
   "execution_count": null,
   "id": "7882561e",
   "metadata": {},
   "outputs": [],
   "source": [
    "states = states_Sym()\n",
    "P = make_P_Sym()\n",
    "pop_distr = pop_distr_Sym()"
   ]
  },
  {
   "cell_type": "code",
   "execution_count": null,
   "id": "598a5358",
   "metadata": {},
   "outputs": [],
   "source": [
    "m = 0.001\n",
    "N = 1000\n",
    "\n",
    "M = m*P\n",
    "pop_size = np.array(N*pop_distr)\n",
    "coalescence = 1/pop_size\n",
    "\n",
    "smin = 1e-8\n",
    "smax = 1e-6\n",
    "srange = np.arange(smin,smax,(smax-smin)/10)\n",
    "srange = np.append(srange,np.arange(smax,1e-2,(1e-2-smax)/20))"
   ]
  },
  {
   "cell_type": "code",
   "execution_count": null,
   "id": "e065198c",
   "metadata": {},
   "outputs": [],
   "source": [
    "MSPRIME_data = make_ctime_msprime(states,0.5*M,0.5*pop_size,iterations=500,rep=np.inf,save_as_file=False)\n",
    "LINEQ_data = make_ctime_lineq(0.5*M,coalescence,srange)"
   ]
  },
  {
   "cell_type": "markdown",
   "id": "672b80bb",
   "metadata": {},
   "source": [
    "Plot"
   ]
  },
  {
   "cell_type": "code",
   "execution_count": null,
   "id": "eafe09b5",
   "metadata": {},
   "outputs": [],
   "source": [
    "for i in range(1,len(states)**2):\n",
    "    plt.plot(LINEQ_data[:,0],LINEQ_data[:,i])\n",
    "\n",
    "for i in range(1,len(MSPRIME_data)):\n",
    "    plt.plot(srange,emp_laplace(srange,MSPRIME_data[i][1]),'bo')"
   ]
  },
  {
   "cell_type": "code",
   "execution_count": null,
   "id": "1fe3894e",
   "metadata": {
    "scrolled": false
   },
   "outputs": [],
   "source": [
    "plt.hist(np.array(E_Var_lineq(LINEQ_data))[:,1],label='linear equation',alpha=0.5)\n",
    "plt.hist(np.array(E_Var_msprime(MSPRIME_data))[:,1],label='empirical',alpha=0.5)\n",
    "plt.legend()"
   ]
  },
  {
   "cell_type": "markdown",
   "id": "fc0a9e46",
   "metadata": {},
   "source": [
    "### 3.2) Continental Island"
   ]
  },
  {
   "cell_type": "markdown",
   "id": "67341994",
   "metadata": {},
   "source": [
    "![title](Continental_Island.png)"
   ]
  },
  {
   "cell_type": "code",
   "execution_count": null,
   "id": "6e6d55dd",
   "metadata": {},
   "outputs": [],
   "source": [
    "states = states_Cont()\n",
    "P = make_P_Cont(states)\n",
    "pop_distr = pop_distr_Cont()"
   ]
  },
  {
   "cell_type": "code",
   "execution_count": null,
   "id": "dc5ffce8",
   "metadata": {},
   "outputs": [],
   "source": [
    "m = 0.001\n",
    "N = 1000\n",
    "\n",
    "M = m*P\n",
    "pop_size = np.array(N*pop_distr)\n",
    "coalescence = 1/pop_size\n",
    "\n",
    "smin = 1e-8\n",
    "smax = 1e-6\n",
    "srange = np.arange(smin,smax,(smax-smin)/10)\n",
    "srange = np.append(srange,np.arange(smax,1e-2,(1e-2-smax)/20))"
   ]
  },
  {
   "cell_type": "code",
   "execution_count": null,
   "id": "71bf89b7",
   "metadata": {},
   "outputs": [],
   "source": [
    "MSPRIME_data = make_ctime_msprime(states,0.5*M,0.5*pop_size,iterations=500,rep=np.inf,save_as_file=False)\n",
    "LINEQ_data = make_ctime_lineq(0.5*M,coalescence,srange)"
   ]
  },
  {
   "cell_type": "markdown",
   "id": "ca9f10d8",
   "metadata": {},
   "source": [
    "Plot"
   ]
  },
  {
   "cell_type": "code",
   "execution_count": null,
   "id": "225b5d00",
   "metadata": {},
   "outputs": [],
   "source": [
    "for i in range(1,len(states)**2):\n",
    "    plt.plot(LINEQ_data[:,0],LINEQ_data[:,i])\n",
    "\n",
    "for i in range(1,len(MSPRIME_data)):\n",
    "    plt.plot(srange,emp_laplace(srange,MSPRIME_data[i][1]),'bo')"
   ]
  },
  {
   "cell_type": "code",
   "execution_count": null,
   "id": "d29c2e94",
   "metadata": {},
   "outputs": [],
   "source": [
    "plt.hist(np.array(E_Var_lineq(LINEQ_data))[:,1],label='linear equation',alpha=0.5)\n",
    "plt.hist(np.array(E_Var_msprime(MSPRIME_data))[:,1],label='empirical',alpha=0.5)\n",
    "plt.legend()"
   ]
  },
  {
   "cell_type": "markdown",
   "id": "468996b9",
   "metadata": {},
   "source": [
    "# 4) Unequal Recombination"
   ]
  },
  {
   "cell_type": "markdown",
   "id": "29a909e4",
   "metadata": {},
   "source": [
    "![title](Unequal_Recombination.png)"
   ]
  },
  {
   "cell_type": "code",
   "execution_count": 7,
   "id": "ede6672f",
   "metadata": {},
   "outputs": [
    {
     "name": "stderr",
     "output_type": "stream",
     "text": [
      "100%|██████████| 21/21 [00:00<00:00, 106.94it/s]\n"
     ]
    }
   ],
   "source": [
    "E = 5\n",
    "m = 0.01\n",
    "N = 1000\n",
    "n_max = n_max_UE(E)\n",
    "\n",
    "states = states_UE(E)\n",
    "pop_distr = pop_distr_UE(E,states)\n",
    "P = make_P_UE(E)\n",
    "\n",
    "grid = np.arange(1,n_max,(n_max-1)/5).astype(int)\n",
    "sample_state = []\n",
    "for i in range(len(grid)):\n",
    "    for j in range(len(grid)):\n",
    "        sample_state += [states.index(str(grid[i])+'|'+str(grid[j]))]\n",
    "\n",
    "M = m*P\n",
    "pop_size = N*np.array(pop_distr)"
   ]
  },
  {
   "cell_type": "code",
   "execution_count": 8,
   "id": "e8c15743",
   "metadata": {
    "scrolled": true
   },
   "outputs": [
    {
     "name": "stdout",
     "output_type": "stream",
     "text": [
      "CTime_msprime.csv\n"
     ]
    },
    {
     "name": "stderr",
     "output_type": "stream",
     "text": [
      "100%|██████████| 25/25 [02:29<00:00,  5.99s/it]\n"
     ]
    }
   ],
   "source": [
    "MSPRIME_data = make_ctime_msprime(states,0.5*M,0.5*pop_size,iterations=100,rep=np.inf,sample_state=sample_state,save_as_file=False)"
   ]
  },
  {
   "cell_type": "markdown",
   "id": "fa47e507",
   "metadata": {},
   "source": [
    "Plot"
   ]
  },
  {
   "cell_type": "code",
   "execution_count": 9,
   "id": "79eb875f",
   "metadata": {
    "scrolled": false
   },
   "outputs": [
    {
     "data": {
      "text/plain": [
       "(array([ 18.,   2.,   3.,   2.,   0.,  36., 210., 273.,  74.,   7.]),\n",
       " array([1.01000000e-05, 2.04630867e+00, 4.09260724e+00, 6.13890581e+00,\n",
       "        8.18520438e+00, 1.02315030e+01, 1.22778015e+01, 1.43241001e+01,\n",
       "        1.63703987e+01, 1.84166972e+01, 2.04629958e+01]),\n",
       " <BarContainer object of 10 artists>)"
      ]
     },
     "execution_count": 9,
     "metadata": {},
     "output_type": "execute_result"
    },
    {
     "data": {
      "image/png": "[encoded data removed]",
      "text/plain": [
       "<Figure size 432x288 with 1 Axes>"
      ]
     },
     "metadata": {
      "needs_background": "light"
     },
     "output_type": "display_data"
    }
   ],
   "source": [
    "plt.hist(np.array(E_Var_msprime(MSPRIME_data))[:,1]/N)"
   ]
  },
  {
   "cell_type": "markdown",
   "id": "93ca057b",
   "metadata": {},
   "source": [
    "# 5) Site frequency spectrum"
   ]
  },
  {
   "cell_type": "markdown",
   "id": "1c4d4de9",
   "metadata": {},
   "source": [
    "![title](SFS_schema.png)"
   ]
  },
  {
   "cell_type": "code",
   "execution_count": 2,
   "id": "0156e7fb",
   "metadata": {},
   "outputs": [
    {
     "name": "stderr",
     "output_type": "stream",
     "text": [
      "100%|██████████| 14/14 [00:00<00:00, 236.43it/s]\n"
     ]
    }
   ],
   "source": [
    "E = 3\n",
    "m = 0.01\n",
    "N = 80000\n",
    "theta = 5\n",
    "n_max = n_max_UE(E)\n",
    "\n",
    "states = states_UE(E)\n",
    "pop_distr = pop_distr_UE(E,states)\n",
    "P = make_P_UE(E)\n",
    "\n",
    "M = (0.5*m)/N*P\n",
    "pop_size = N*np.array(pop_distr)"
   ]
  },
  {
   "cell_type": "code",
   "execution_count": 3,
   "id": "58258703",
   "metadata": {},
   "outputs": [],
   "source": [
    "n = len(states)\n",
    "alpha=np.zeros(n)\n",
    "scenario = 1\n",
    "\n",
    "if (scenario == 1):\n",
    "    alpha[states.index('1|3')] += 5\n",
    "    alpha[states.index('2|2')] += 5\n",
    "    alpha[states.index('3|1')] += 5\n",
    "if (scenario == 2):\n",
    "    alpha[states.index('1|1')] += 1\n",
    "    alpha[states.index('1|2')] += 1\n",
    "    alpha[states.index('2|1')] += 1\n",
    "    alpha[states.index('1|3')] += 1\n",
    "    alpha[states.index('2|2')] += 1\n",
    "    alpha[states.index('3|1')] += 1\n",
    "    alpha[states.index('1|4')] += 1\n",
    "    alpha[states.index('2|3')] += 1\n",
    "    alpha[states.index('3|2')] += 1\n",
    "    alpha[states.index('4|1')] += 1\n",
    "    alpha[states.index('1|5')] += 1\n",
    "    alpha[states.index('2|4')] += 1\n",
    "    alpha[states.index('3|3')] += 1\n",
    "    alpha[states.index('4|2')] += 1\n",
    "    alpha[states.index('5|1')] += 1"
   ]
  },
  {
   "cell_type": "code",
   "execution_count": 4,
   "id": "5e3bc446",
   "metadata": {},
   "outputs": [],
   "source": [
    "pop_configs = []\n",
    "for k in range(n):\n",
    "    pop_configs.append(msprime.PopulationConfiguration(initial_size=pop_size[k],sample_size=int(alpha[k])))"
   ]
  },
  {
   "cell_type": "code",
   "execution_count": 5,
   "id": "ebb2562b",
   "metadata": {
    "scrolled": true
   },
   "outputs": [
    {
     "name": "stderr",
     "output_type": "stream",
     "text": [
      "100%|██████████| 100/100 [00:08<00:00, 11.28it/s]\n"
     ]
    }
   ],
   "source": [
    "SFS = make_SFS(N,M,m,alpha,pop_configs,theta=theta,iterations=100,save_as_file=False)"
   ]
  },
  {
   "cell_type": "markdown",
   "id": "6b46d4bf",
   "metadata": {},
   "source": [
    "Plot"
   ]
  },
  {
   "cell_type": "code",
   "execution_count": 6,
   "id": "797d0d0b",
   "metadata": {},
   "outputs": [
    {
     "data": {
      "text/plain": [
       "Text(0.5, 1.0, \"['theta,rN', array([5.  , 0.01])]\")"
      ]
     },
     "execution_count": 6,
     "metadata": {},
     "output_type": "execute_result"
    },
    {
     "data": {
      "image/png": "[encoded data removed]",
      "text/plain": [
       "<Figure size 432x288 with 1 Axes>"
      ]
     },
     "metadata": {
      "needs_background": "light"
     },
     "output_type": "display_data"
    }
   ],
   "source": [
    "plt.stairs(SFS[1][3:],SFS[0][2:]+0.5)\n",
    "plt.title([\"theta,rN\"]+[SFS[1][0:2]])"
   ]
  }
 ],
 "metadata": {
  "kernelspec": {
   "display_name": "Python 3",
   "language": "python",
   "name": "python3"
  },
  "language_info": {
   "codemirror_mode": {
    "name": "ipython",
    "version": 3
   },
   "file_extension": ".py",
   "mimetype": "text/x-python",
   "name": "python",
   "nbconvert_exporter": "python",
   "pygments_lexer": "ipython3",
   "version": "3.8.8"
  }
 },
 "nbformat": 4,
 "nbformat_minor": 5
}
